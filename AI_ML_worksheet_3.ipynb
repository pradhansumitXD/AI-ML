{
  "nbformat": 4,
  "nbformat_minor": 0,
  "metadata": {
    "colab": {
      "provenance": [],
      "mount_file_id": "1pe68gB6Nu2Wnk6VehgMhp69wHgpCTb-p",
      "authorship_tag": "ABX9TyPwh4GO6z4eDGQp0rEHl7Eo",
      "include_colab_link": true
    },
    "kernelspec": {
      "name": "python3",
      "display_name": "Python 3"
    },
    "language_info": {
      "name": "python"
    }
  },
  "cells": [
    {
      "cell_type": "markdown",
      "metadata": {
        "id": "view-in-github",
        "colab_type": "text"
      },
      "source": [
        "<a href=\"https://colab.research.google.com/github/pradhansumitXD/AI-ML/blob/main/AI_ML_worksheet_3.ipynb\" target=\"_parent\"><img src=\"https://colab.research.google.com/assets/colab-badge.svg\" alt=\"Open In Colab\"/></a>"
      ]
    },
    {
      "cell_type": "code",
      "execution_count": 1,
      "metadata": {
        "colab": {
          "base_uri": "https://localhost:8080/"
        },
        "id": "YEu7fXFYKWWy",
        "outputId": "8acfdcfa-0501-4ec7-f754-66508ec9b978"
      },
      "outputs": [
        {
          "output_type": "stream",
          "name": "stdout",
          "text": [
            "AND Gate Output: [0, 0, 0, 1]\n"
          ]
        }
      ],
      "source": [
        "def MCP_Neurons_AND(X1, X2, T=2):\n",
        "    \"\"\"\n",
        "    Implements basic AND operation using MCP Neuron.\n",
        "\n",
        "    Parameters:\n",
        "    X1 (list): First binary input array.\n",
        "    X2 (list): Second binary input array.\n",
        "    T (int): Threshold value for AND gate (default = 2).\n",
        "\n",
        "    Returns:\n",
        "    list: Neuron output state for each input pair.\n",
        "    \"\"\"\n",
        "    assert len(X1) == len(X2)\n",
        "\n",
        "    state_neuron = []\n",
        "    for x1, x2 in zip(X1, X2):\n",
        "        state_neuron.append(1 if (x1 + x2) >= T else 0)\n",
        "\n",
        "    return state_neuron\n",
        "\n",
        "# Example usage\n",
        "X1 = [0, 0, 1, 1]\n",
        "X2 = [0, 1, 0, 1]\n",
        "T = 2\n",
        "print(f\"AND Gate Output: {MCP_Neurons_AND(X1, X2, T)}\")\n"
      ]
    },
    {
      "cell_type": "code",
      "source": [
        "def MCP_Neurons_OR(X1, X2, T=1):\n",
        "    \"\"\"\n",
        "    Implements basic OR operation using MCP Neuron.\n",
        "\n",
        "    Parameters:\n",
        "    X1 (list): First binary input array.\n",
        "    X2 (list): Second binary input array.\n",
        "    T (int): Threshold value for OR gate (default = 1).\n",
        "\n",
        "    Returns:\n",
        "    list: Neuron output state for each input pair.\n",
        "    \"\"\"\n",
        "    assert len(X1) == len(X2)\n",
        "\n",
        "    state_neuron = []\n",
        "    for x1, x2 in zip(X1, X2):\n",
        "        state_neuron.append(1 if (x1 + x2) >= T else 0)\n",
        "\n",
        "    return state_neuron\n",
        "\n",
        "# Example usage\n",
        "T = 1\n",
        "print(f\"OR Gate Output: {MCP_Neurons_OR(X1, X2, T)}\")\n"
      ],
      "metadata": {
        "colab": {
          "base_uri": "https://localhost:8080/"
        },
        "id": "FfFQ6gWBKdhv",
        "outputId": "12657e64-47df-4647-a93f-70544e69c76a"
      },
      "execution_count": 2,
      "outputs": [
        {
          "output_type": "stream",
          "name": "stdout",
          "text": [
            "OR Gate Output: [0, 1, 1, 1]\n"
          ]
        }
      ]
    },
    {
      "cell_type": "code",
      "source": [
        "import pandas as pd\n",
        "import numpy as np\n",
        "\n",
        "# Load dataset\n",
        "df_0_1 = pd.read_csv(\"/content/sample_data/mnist_0_and_1.csv\")  # Update path if necessary\n",
        "\n",
        "# Extract features and labels\n",
        "X = df_0_1.drop(columns=[\"label\"]).values  # 784 pixels (28x28 image)\n",
        "y = df_0_1[\"label\"].values  # Labels (0 or 1)\n",
        "\n",
        "print(\"Feature matrix shape:\", X.shape)  # (num_samples, 784)\n",
        "print(\"Label vector shape:\", y.shape)  # (num_samples,)\n"
      ],
      "metadata": {
        "colab": {
          "base_uri": "https://localhost:8080/"
        },
        "id": "8ytfbegAKgHo",
        "outputId": "e592c343-b8ba-4e9f-c9c4-3d1a5cbfe885"
      },
      "execution_count": 15,
      "outputs": [
        {
          "output_type": "stream",
          "name": "stdout",
          "text": [
            "Feature matrix shape: (3472, 784)\n",
            "Label vector shape: (3472,)\n"
          ]
        }
      ]
    },
    {
      "cell_type": "code",
      "source": [
        "from google.colab import drive\n",
        "drive.mount('/content/drive')"
      ],
      "metadata": {
        "colab": {
          "base_uri": "https://localhost:8080/"
        },
        "id": "JxTWE_3RLMeu",
        "outputId": "0255b821-0d99-4ba5-9223-48499f1385e5"
      },
      "execution_count": 4,
      "outputs": [
        {
          "output_type": "stream",
          "name": "stdout",
          "text": [
            "Drive already mounted at /content/drive; to attempt to forcibly remount, call drive.mount(\"/content/drive\", force_remount=True).\n"
          ]
        }
      ]
    },
    {
      "cell_type": "code",
      "source": [
        "# Initialize weights and bias\n",
        "weights = np.zeros(X.shape[1])  # 784 weights for each pixel\n",
        "bias = 0\n",
        "learning_rate = 0.1\n",
        "epochs = 100\n"
      ],
      "metadata": {
        "id": "yhcDGZjILTwf"
      },
      "execution_count": 5,
      "outputs": []
    },
    {
      "cell_type": "code",
      "source": [
        "def decision_function(X, weights, bias):\n",
        "    \"\"\"\n",
        "    Computes predictions using the perceptron activation function.\n",
        "\n",
        "    Parameters:\n",
        "    X (ndarray): Input feature matrix.\n",
        "    weights (ndarray): Trained weights.\n",
        "    bias (float): Bias term.\n",
        "\n",
        "    Returns:\n",
        "    ndarray: Predicted labels (0 or 1).\n",
        "    \"\"\"\n",
        "    predictions = np.dot(X, weights) + bias\n",
        "    return np.where(predictions >= 0, 1, 0)  # Step function\n"
      ],
      "metadata": {
        "id": "tUcpLC5_LVr-"
      },
      "execution_count": 6,
      "outputs": []
    },
    {
      "cell_type": "code",
      "source": [
        "def train_perceptron(X, y, weights, bias, learning_rate=0.1, epochs=100):\n",
        "    \"\"\"\n",
        "    Trains a perceptron using the Perceptron Learning Algorithm.\n",
        "\n",
        "    Parameters:\n",
        "    X (ndarray): Feature matrix.\n",
        "    y (ndarray): Target labels.\n",
        "    weights (ndarray): Initial weights.\n",
        "    bias (float): Initial bias.\n",
        "    learning_rate (float): Learning rate.\n",
        "    epochs (int): Number of training iterations.\n",
        "\n",
        "    Returns:\n",
        "    tuple: Updated weights, updated bias, and accuracy.\n",
        "    \"\"\"\n",
        "    for epoch in range(epochs):\n",
        "        correct = 0\n",
        "        for i in range(len(y)):\n",
        "            output = np.dot(X[i], weights) + bias\n",
        "            prediction = 1 if output >= 0 else 0\n",
        "\n",
        "            # Update if misclassified\n",
        "            if prediction != y[i]:\n",
        "                weights += learning_rate * (y[i] - prediction) * X[i]\n",
        "                bias += learning_rate * (y[i] - prediction)\n",
        "            else:\n",
        "                correct += 1\n",
        "\n",
        "        accuracy = correct / len(y)\n",
        "        print(f\"Epoch {epoch+1}/{epochs} - Accuracy: {accuracy:.4f}\")\n",
        "\n",
        "        if accuracy == 1.0:  # Stop early if perfect\n",
        "            break\n",
        "\n",
        "    return weights, bias, accuracy\n",
        "\n",
        "# Train the perceptron\n",
        "weights, bias, accuracy = train_perceptron(X, y, weights, bias)\n",
        "print(\"Final Accuracy:\", accuracy)\n"
      ],
      "metadata": {
        "colab": {
          "base_uri": "https://localhost:8080/"
        },
        "id": "cVjUAkp3LXlR",
        "outputId": "4f95a0c7-cb99-49a9-c703-2ddb8002a73c"
      },
      "execution_count": 16,
      "outputs": [
        {
          "output_type": "stream",
          "name": "stdout",
          "text": [
            "Epoch 1/100 - Accuracy: 0.5311\n",
            "Epoch 2/100 - Accuracy: 0.5311\n",
            "Epoch 3/100 - Accuracy: 0.5311\n",
            "Epoch 4/100 - Accuracy: 0.5311\n",
            "Epoch 5/100 - Accuracy: 0.5311\n",
            "Epoch 6/100 - Accuracy: 0.5311\n",
            "Epoch 7/100 - Accuracy: 0.5311\n",
            "Epoch 8/100 - Accuracy: 0.5311\n",
            "Epoch 9/100 - Accuracy: 0.5311\n",
            "Epoch 10/100 - Accuracy: 0.5311\n",
            "Epoch 11/100 - Accuracy: 0.5311\n",
            "Epoch 12/100 - Accuracy: 0.5311\n",
            "Epoch 13/100 - Accuracy: 0.5311\n",
            "Epoch 14/100 - Accuracy: 0.5311\n",
            "Epoch 15/100 - Accuracy: 0.5311\n",
            "Epoch 16/100 - Accuracy: 0.5311\n",
            "Epoch 17/100 - Accuracy: 0.5311\n",
            "Epoch 18/100 - Accuracy: 0.5311\n",
            "Epoch 19/100 - Accuracy: 0.5311\n",
            "Epoch 20/100 - Accuracy: 0.5311\n",
            "Epoch 21/100 - Accuracy: 0.5311\n",
            "Epoch 22/100 - Accuracy: 0.5311\n",
            "Epoch 23/100 - Accuracy: 0.5311\n",
            "Epoch 24/100 - Accuracy: 0.5311\n",
            "Epoch 25/100 - Accuracy: 0.5311\n",
            "Epoch 26/100 - Accuracy: 0.5311\n",
            "Epoch 27/100 - Accuracy: 0.5311\n",
            "Epoch 28/100 - Accuracy: 0.5311\n",
            "Epoch 29/100 - Accuracy: 0.5311\n",
            "Epoch 30/100 - Accuracy: 0.5311\n",
            "Epoch 31/100 - Accuracy: 0.5311\n",
            "Epoch 32/100 - Accuracy: 0.5311\n",
            "Epoch 33/100 - Accuracy: 0.5311\n",
            "Epoch 34/100 - Accuracy: 0.5311\n",
            "Epoch 35/100 - Accuracy: 0.5311\n",
            "Epoch 36/100 - Accuracy: 0.5311\n",
            "Epoch 37/100 - Accuracy: 0.5311\n",
            "Epoch 38/100 - Accuracy: 0.5311\n",
            "Epoch 39/100 - Accuracy: 0.5311\n",
            "Epoch 40/100 - Accuracy: 0.5311\n",
            "Epoch 41/100 - Accuracy: 0.5311\n",
            "Epoch 42/100 - Accuracy: 0.5311\n",
            "Epoch 43/100 - Accuracy: 0.5311\n",
            "Epoch 44/100 - Accuracy: 0.5311\n",
            "Epoch 45/100 - Accuracy: 0.5311\n",
            "Epoch 46/100 - Accuracy: 0.5311\n",
            "Epoch 47/100 - Accuracy: 0.5311\n",
            "Epoch 48/100 - Accuracy: 0.5311\n",
            "Epoch 49/100 - Accuracy: 0.5311\n",
            "Epoch 50/100 - Accuracy: 0.5311\n",
            "Epoch 51/100 - Accuracy: 0.5311\n",
            "Epoch 52/100 - Accuracy: 0.5311\n",
            "Epoch 53/100 - Accuracy: 0.5311\n",
            "Epoch 54/100 - Accuracy: 0.5311\n",
            "Epoch 55/100 - Accuracy: 0.5311\n",
            "Epoch 56/100 - Accuracy: 0.5311\n",
            "Epoch 57/100 - Accuracy: 0.5311\n",
            "Epoch 58/100 - Accuracy: 0.5311\n",
            "Epoch 59/100 - Accuracy: 0.5311\n",
            "Epoch 60/100 - Accuracy: 0.5311\n",
            "Epoch 61/100 - Accuracy: 0.5311\n",
            "Epoch 62/100 - Accuracy: 0.5311\n",
            "Epoch 63/100 - Accuracy: 0.5311\n",
            "Epoch 64/100 - Accuracy: 0.5311\n",
            "Epoch 65/100 - Accuracy: 0.5311\n",
            "Epoch 66/100 - Accuracy: 0.5311\n",
            "Epoch 67/100 - Accuracy: 0.5311\n",
            "Epoch 68/100 - Accuracy: 0.5311\n",
            "Epoch 69/100 - Accuracy: 0.5311\n",
            "Epoch 70/100 - Accuracy: 0.5311\n",
            "Epoch 71/100 - Accuracy: 0.5311\n",
            "Epoch 72/100 - Accuracy: 0.5311\n",
            "Epoch 73/100 - Accuracy: 0.5311\n",
            "Epoch 74/100 - Accuracy: 0.5311\n",
            "Epoch 75/100 - Accuracy: 0.5311\n",
            "Epoch 76/100 - Accuracy: 0.5311\n",
            "Epoch 77/100 - Accuracy: 0.5311\n",
            "Epoch 78/100 - Accuracy: 0.5311\n",
            "Epoch 79/100 - Accuracy: 0.5311\n",
            "Epoch 80/100 - Accuracy: 0.5311\n",
            "Epoch 81/100 - Accuracy: 0.5311\n",
            "Epoch 82/100 - Accuracy: 0.5311\n",
            "Epoch 83/100 - Accuracy: 0.5311\n",
            "Epoch 84/100 - Accuracy: 0.5311\n",
            "Epoch 85/100 - Accuracy: 0.5311\n",
            "Epoch 86/100 - Accuracy: 0.5311\n",
            "Epoch 87/100 - Accuracy: 0.5311\n",
            "Epoch 88/100 - Accuracy: 0.5311\n",
            "Epoch 89/100 - Accuracy: 0.5311\n",
            "Epoch 90/100 - Accuracy: 0.5311\n",
            "Epoch 91/100 - Accuracy: 0.5311\n",
            "Epoch 92/100 - Accuracy: 0.5311\n",
            "Epoch 93/100 - Accuracy: 0.5311\n",
            "Epoch 94/100 - Accuracy: 0.5311\n",
            "Epoch 95/100 - Accuracy: 0.5311\n",
            "Epoch 96/100 - Accuracy: 0.5311\n",
            "Epoch 97/100 - Accuracy: 0.5311\n",
            "Epoch 98/100 - Accuracy: 0.5311\n",
            "Epoch 99/100 - Accuracy: 0.5311\n",
            "Epoch 100/100 - Accuracy: 0.5311\n",
            "Final Accuracy: 0.5311059907834101\n"
          ]
        }
      ]
    },
    {
      "cell_type": "code",
      "source": [
        "import matplotlib.pyplot as plt\n",
        "\n",
        "# Get predictions\n",
        "y_pred = decision_function(X, weights, bias)\n",
        "\n",
        "# Identify misclassified indices\n",
        "misclassified_idx = np.where(y_pred != y)[0]\n",
        "\n",
        "if len(misclassified_idx) > 0:\n",
        "    fig, axes = plt.subplots(2, 5, figsize=(10, 5))\n",
        "\n",
        "    for ax, idx in zip(axes.flat, misclassified_idx[:10]):  # Show 10 misclassified images\n",
        "        ax.imshow(X[idx].reshape(28, 28), cmap=\"gray\")\n",
        "        ax.set_title(f\"Pred: {y_pred[idx]}, True: {y[idx]}\")\n",
        "        ax.axis(\"off\")\n",
        "\n",
        "    plt.suptitle(\"Misclassified Images\")\n",
        "    plt.show()\n",
        "else:\n",
        "    print(\"All images were correctly classified!\")\n"
      ],
      "metadata": {
        "colab": {
          "base_uri": "https://localhost:8080/"
        },
        "id": "z4Ah0GKkLjBZ",
        "outputId": "073d28ca-0cf5-4a42-911e-079cea7adbaa"
      },
      "execution_count": 12,
      "outputs": [
        {
          "output_type": "stream",
          "name": "stdout",
          "text": [
            "All images were correctly classified!\n"
          ]
        }
      ]
    },
    {
      "cell_type": "code",
      "source": [
        "df_3_5 = pd.read_csv(\"/content/sample_data/mnist_3_and_5.csv\")  # Load dataset\n",
        "\n",
        "X = df_3_5.drop(columns=[\"label\"]).values\n",
        "y = df_3_5[\"label\"].values\n",
        "\n",
        "# Train the perceptron\n",
        "weights, bias, accuracy = train_perceptron(X, y, weights, bias)\n",
        "print(\"Final Accuracy on 3 vs 5:\", accuracy)\n",
        "\n",
        "# Visualize misclassified images\n",
        "y_pred = decision_function(X, weights, bias)\n",
        "misclassified_idx = np.where(y_pred != y)[0]\n",
        "\n",
        "if len(misclassified_idx) > 0:\n",
        "    fig, axes = plt.subplots(2, 5, figsize=(10, 5))\n",
        "\n",
        "    for ax, idx in zip(axes.flat, misclassified_idx[:10]):\n",
        "        ax.imshow(X[idx].reshape(28, 28), cmap=\"gray\")\n",
        "        ax.set_title(f\"Pred: {y_pred[idx]}, True: {y[idx]}\")\n",
        "        ax.axis(\"off\")\n",
        "\n",
        "    plt.suptitle(\"Misclassified Images\")\n",
        "    plt.show()\n",
        "else:\n",
        "    print(\"All images were correctly classified!\")\n"
      ],
      "metadata": {
        "colab": {
          "base_uri": "https://localhost:8080/",
          "height": 1000
        },
        "id": "SSkEglF7LlcO",
        "outputId": "12d98b4f-e330-4c4d-c938-78cc0ffea2cf"
      },
      "execution_count": 13,
      "outputs": [
        {
          "output_type": "stream",
          "name": "stdout",
          "text": [
            "Epoch 1/100 - Accuracy: 0.0000\n",
            "Epoch 2/100 - Accuracy: 0.0000\n",
            "Epoch 3/100 - Accuracy: 0.0000\n",
            "Epoch 4/100 - Accuracy: 0.0000\n",
            "Epoch 5/100 - Accuracy: 0.0000\n",
            "Epoch 6/100 - Accuracy: 0.0000\n",
            "Epoch 7/100 - Accuracy: 0.0000\n",
            "Epoch 8/100 - Accuracy: 0.0000\n",
            "Epoch 9/100 - Accuracy: 0.0000\n",
            "Epoch 10/100 - Accuracy: 0.0000\n",
            "Epoch 11/100 - Accuracy: 0.0000\n",
            "Epoch 12/100 - Accuracy: 0.0000\n",
            "Epoch 13/100 - Accuracy: 0.0000\n",
            "Epoch 14/100 - Accuracy: 0.0000\n",
            "Epoch 15/100 - Accuracy: 0.0000\n",
            "Epoch 16/100 - Accuracy: 0.0000\n",
            "Epoch 17/100 - Accuracy: 0.0000\n",
            "Epoch 18/100 - Accuracy: 0.0000\n",
            "Epoch 19/100 - Accuracy: 0.0000\n",
            "Epoch 20/100 - Accuracy: 0.0000\n",
            "Epoch 21/100 - Accuracy: 0.0000\n",
            "Epoch 22/100 - Accuracy: 0.0000\n",
            "Epoch 23/100 - Accuracy: 0.0000\n",
            "Epoch 24/100 - Accuracy: 0.0000\n",
            "Epoch 25/100 - Accuracy: 0.0000\n",
            "Epoch 26/100 - Accuracy: 0.0000\n",
            "Epoch 27/100 - Accuracy: 0.0000\n",
            "Epoch 28/100 - Accuracy: 0.0000\n",
            "Epoch 29/100 - Accuracy: 0.0000\n",
            "Epoch 30/100 - Accuracy: 0.0000\n",
            "Epoch 31/100 - Accuracy: 0.0000\n",
            "Epoch 32/100 - Accuracy: 0.0000\n",
            "Epoch 33/100 - Accuracy: 0.0000\n",
            "Epoch 34/100 - Accuracy: 0.0000\n",
            "Epoch 35/100 - Accuracy: 0.0000\n",
            "Epoch 36/100 - Accuracy: 0.0000\n",
            "Epoch 37/100 - Accuracy: 0.0000\n",
            "Epoch 38/100 - Accuracy: 0.0000\n",
            "Epoch 39/100 - Accuracy: 0.0000\n",
            "Epoch 40/100 - Accuracy: 0.0000\n",
            "Epoch 41/100 - Accuracy: 0.0000\n",
            "Epoch 42/100 - Accuracy: 0.0000\n",
            "Epoch 43/100 - Accuracy: 0.0000\n",
            "Epoch 44/100 - Accuracy: 0.0000\n",
            "Epoch 45/100 - Accuracy: 0.0000\n",
            "Epoch 46/100 - Accuracy: 0.0000\n",
            "Epoch 47/100 - Accuracy: 0.0000\n",
            "Epoch 48/100 - Accuracy: 0.0000\n",
            "Epoch 49/100 - Accuracy: 0.0000\n",
            "Epoch 50/100 - Accuracy: 0.0000\n",
            "Epoch 51/100 - Accuracy: 0.0000\n",
            "Epoch 52/100 - Accuracy: 0.0000\n",
            "Epoch 53/100 - Accuracy: 0.0000\n",
            "Epoch 54/100 - Accuracy: 0.0000\n",
            "Epoch 55/100 - Accuracy: 0.0000\n",
            "Epoch 56/100 - Accuracy: 0.0000\n",
            "Epoch 57/100 - Accuracy: 0.0000\n",
            "Epoch 58/100 - Accuracy: 0.0000\n",
            "Epoch 59/100 - Accuracy: 0.0000\n",
            "Epoch 60/100 - Accuracy: 0.0000\n",
            "Epoch 61/100 - Accuracy: 0.0000\n",
            "Epoch 62/100 - Accuracy: 0.0000\n",
            "Epoch 63/100 - Accuracy: 0.0000\n",
            "Epoch 64/100 - Accuracy: 0.0000\n",
            "Epoch 65/100 - Accuracy: 0.0000\n",
            "Epoch 66/100 - Accuracy: 0.0000\n",
            "Epoch 67/100 - Accuracy: 0.0000\n",
            "Epoch 68/100 - Accuracy: 0.0000\n",
            "Epoch 69/100 - Accuracy: 0.0000\n",
            "Epoch 70/100 - Accuracy: 0.0000\n",
            "Epoch 71/100 - Accuracy: 0.0000\n",
            "Epoch 72/100 - Accuracy: 0.0000\n",
            "Epoch 73/100 - Accuracy: 0.0000\n",
            "Epoch 74/100 - Accuracy: 0.0000\n",
            "Epoch 75/100 - Accuracy: 0.0000\n",
            "Epoch 76/100 - Accuracy: 0.0000\n",
            "Epoch 77/100 - Accuracy: 0.0000\n",
            "Epoch 78/100 - Accuracy: 0.0000\n",
            "Epoch 79/100 - Accuracy: 0.0000\n",
            "Epoch 80/100 - Accuracy: 0.0000\n",
            "Epoch 81/100 - Accuracy: 0.0000\n",
            "Epoch 82/100 - Accuracy: 0.0000\n",
            "Epoch 83/100 - Accuracy: 0.0000\n",
            "Epoch 84/100 - Accuracy: 0.0000\n",
            "Epoch 85/100 - Accuracy: 0.0000\n",
            "Epoch 86/100 - Accuracy: 0.0000\n",
            "Epoch 87/100 - Accuracy: 0.0000\n",
            "Epoch 88/100 - Accuracy: 0.0000\n",
            "Epoch 89/100 - Accuracy: 0.0000\n",
            "Epoch 90/100 - Accuracy: 0.0000\n",
            "Epoch 91/100 - Accuracy: 0.0000\n",
            "Epoch 92/100 - Accuracy: 0.0000\n",
            "Epoch 93/100 - Accuracy: 0.0000\n",
            "Epoch 94/100 - Accuracy: 0.0000\n",
            "Epoch 95/100 - Accuracy: 0.0000\n",
            "Epoch 96/100 - Accuracy: 0.0000\n",
            "Epoch 97/100 - Accuracy: 0.0000\n",
            "Epoch 98/100 - Accuracy: 0.0000\n",
            "Epoch 99/100 - Accuracy: 0.0000\n",
            "Epoch 100/100 - Accuracy: 0.0000\n",
            "Final Accuracy on 3 vs 5: 0.0\n"
          ]
        },
        {
          "output_type": "display_data",
          "data": {
            "text/plain": [
              "<Figure size 1000x500 with 10 Axes>"
            ],
            "image/png": "[encoded data removed]"
          },
          "metadata": {}
        }
      ]
    }
  ]
}