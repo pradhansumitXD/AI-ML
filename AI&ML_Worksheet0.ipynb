{
  "nbformat": 4,
  "nbformat_minor": 0,
  "metadata": {
    "colab": {
      "provenance": [],
      "mount_file_id": "1V6CsmtXZQVNeNfPHMlBeTeyfZ3sYWsMo",
      "authorship_tag": "ABX9TyPcAO2r8pQ+FnxTZpVyUvAD",
      "include_colab_link": true
    },
    "kernelspec": {
      "name": "python3",
      "display_name": "Python 3"
    },
    "language_info": {
      "name": "python"
    }
  },
  "cells": [
    {
      "cell_type": "markdown",
      "metadata": {
        "id": "view-in-github",
        "colab_type": "text"
      },
      "source": [
        "<a href=\"https://colab.research.google.com/github/pradhansumitXD/AI-ML/blob/main/AI%26ML_Worksheet0.ipynb\" target=\"_parent\"><img src=\"https://colab.research.google.com/assets/colab-badge.svg\" alt=\"Open In Colab\"/></a>"
      ]
    },
    {
      "cell_type": "markdown",
      "source": [
        "# 4. TO - DO - Task Please complete all the problem listed below.\n",
        "\n"
      ],
      "metadata": {
        "id": "OqQzsGrFEdrW"
      }
    },
    {
      "cell_type": "markdown",
      "source": [
        "# 4.1 Exercise on Functions:\n",
        "\n",
        "Task - 1:\n",
        "Create a Python program that converts between different units of measurement.\n",
        "• The program should:\n",
        "1. Prompt the user to choose the type of conversion (e.g., length, weight, volume).\n",
        "2. Ask the user to input the value to be converted.\n",
        "3. Perform the conversion and display the result.\n",
        "4. Handle potential errors, such as invalid input or unsupported conversion types.\n",
        "• Requirements:\n",
        "1. Functions: Define at least one function to perform the conversion.\n",
        "2. Error Handling: Use try-except blocks to handle invalid input (e.g., non-numeric values).\n",
        "3. User Input: Prompt the user to select the conversion type and input the value.\n",
        "4. Docstrings: Include a docstring in your function to describe its purpose, parameters, and\n",
        "return value.\n",
        "• Conversion Options:\n",
        "1. Length:\n",
        "– Convert meters (m) to feet (ft).\n",
        "– Convert feet (ft) to meters (m).\n",
        "2. Weight:\n",
        "– Convert kilograms (kg) to pounds (lbs).\n",
        "– Convert pounds (lbs) to kilograms (kg).\n",
        "3. Volume:\n",
        "– Convert liters (L) to gallons (gal).\n",
        "– Convert gallons (gal) to liters (L)."
      ],
      "metadata": {
        "id": "eKxeV3BkA8Uh"
      }
    },
    {
      "cell_type": "code",
      "execution_count": 4,
      "metadata": {
        "colab": {
          "base_uri": "https://localhost:8080/"
        },
        "id": "tVyDHCtzAvxU",
        "outputId": "c44a39f9-40ce-4228-e5de-f22d5bb1a5a0"
      },
      "outputs": [
        {
          "output_type": "stream",
          "name": "stdout",
          "text": [
            "Welcome to the unit conversion program!\n",
            "Choose conversion type (length, weight, volume): volume\n",
            "Enter the value to be converted: 25\n",
            "Enter the unit to convert from (L for liters, gal for gallons): L\n",
            "Enter the unit to convert to (L for liters, gal for gallons): gal\n",
            "The converted value is: 6.6043\n"
          ]
        }
      ],
      "source": [
        "import numpy as np\n",
        "\n",
        "def length_conversion(amount, source_unit, target_unit):\n",
        "    if source_unit == 'm' and target_unit == 'ft':\n",
        "        return np.multiply(amount, 3.28084)\n",
        "    elif source_unit == 'ft' and target_unit == 'm':\n",
        "        return np.divide(amount, 3.28084)\n",
        "    else:\n",
        "        raise ValueError(\"Invalid units for length conversion\")\n",
        "\n",
        "def weight_conversion(amount, source_unit, target_unit):\n",
        "    if source_unit == 'kg' and target_unit == 'lbs':\n",
        "        return np.multiply(amount, 2.20462)\n",
        "    elif source_unit == 'lbs' and target_unit == 'kg':\n",
        "        return np.divide(amount, 2.20462)\n",
        "    else:\n",
        "        raise ValueError(\"Invalid units for weight conversion\")\n",
        "\n",
        "def volume_conversion(amount, source_unit, target_unit):\n",
        "    if source_unit == 'L' and target_unit == 'gal':\n",
        "        return np.multiply(amount, 0.264172)\n",
        "    elif source_unit == 'gal' and target_unit == 'L':\n",
        "        return np.divide(amount, 0.264172)\n",
        "    else:\n",
        "        raise ValueError(\"Invalid units for volume conversion\")\n",
        "\n",
        "def main():\n",
        "    print(\"Welcome to the unit conversion program!\")\n",
        "    conversion_category = input(\"Choose conversion type (length, weight, volume): \").strip().lower()\n",
        "\n",
        "    if conversion_category not in ['length', 'weight', 'volume']:\n",
        "        print(\"Error: Invalid conversion category selected!\")\n",
        "        return\n",
        "\n",
        "    try:\n",
        "        input_value = float(input(\"Enter the value to be converted: \"))\n",
        "\n",
        "        if conversion_category == 'length':\n",
        "            input_unit = input(\"Enter the unit to convert from (m for meters, ft for feet): \").strip()\n",
        "            output_unit = input(\"Enter the unit to convert to (m for meters, ft for feet): \").strip()\n",
        "            result = length_conversion(input_value, input_unit, output_unit)\n",
        "\n",
        "        elif conversion_category == 'weight':\n",
        "            input_unit = input(\"Enter the unit to convert from (kg for kilograms, lbs for pounds): \").strip()\n",
        "            output_unit = input(\"Enter the unit to convert to (kg for kilograms, lbs for pounds): \").strip()\n",
        "            result = weight_conversion(input_value, input_unit, output_unit)\n",
        "\n",
        "        elif conversion_category == 'volume':\n",
        "            input_unit = input(\"Enter the unit to convert from (L for liters, gal for gallons): \").strip()\n",
        "            output_unit = input(\"Enter the unit to convert to (L for liters, gal for gallons): \").strip()\n",
        "            result = volume_conversion(input_value, input_unit, output_unit)\n",
        "\n",
        "        print(f\"The converted value is: {result}\")\n",
        "\n",
        "    except ValueError as e:\n",
        "        print(f\"Error: {e}. Please ensure you enter a valid numeric value and unit combination.\")\n",
        "\n",
        "if __name__ == \"__main__\":\n",
        "    main()\n"
      ]
    },
    {
      "cell_type": "markdown",
      "source": [
        "# Task - 2:\n",
        "Create a Python program that performs various mathematical operations on a list of numbers.\n",
        "• The Program should:\n",
        "1. Prompt the user to choose an operation (e.g., find the sum, average, maximum, or minimum\n",
        "of the numbers).\n",
        "2. Ask the user to input a list of numbers (separated by spaces).\n",
        "\n",
        "\n",
        "3. Perform the selected operation and display the result.\n",
        "4. Handle potential errors, such as invalid input or empty lists.\n",
        "• Requirements:\n",
        "\n",
        "1. Functions: Define at least one function for each operation (sum, average, maximum, mini-\n",
        "mum).\n",
        "\n",
        "2. Error Handling: Use try-except blocks to handle invalid input (e.g., non-numeric values or\n",
        "empty lists).\n",
        "3. User Input: Prompt the user to select the operation and input the list of numbers.\n",
        "4. Docstrings: Include a docstring in each function to describe its purpose, parameters, and\n",
        "return value."
      ],
      "metadata": {
        "id": "iyW9HvawBz_F"
      }
    },
    {
      "cell_type": "code",
      "source": [
        "def calculate_sum(values):\n",
        "    \"\"\"\n",
        "    Function to calculate the sum of the numbers in the list.\n",
        "\n",
        "    Parameters:\n",
        "    values (list): The list of numbers to be summed.\n",
        "\n",
        "    Returns:\n",
        "    float: The sum of the numbers.\n",
        "    \"\"\"\n",
        "    return sum(values)\n",
        "\n",
        "def calculate_average(values):\n",
        "    \"\"\"\n",
        "    Function to calculate the average of the numbers in the list.\n",
        "\n",
        "    Parameters:\n",
        "    values (list): The list of numbers to calculate the average of.\n",
        "\n",
        "    Returns:\n",
        "    float: The average of the numbers.\n",
        "    \"\"\"\n",
        "    if len(values) == 0:\n",
        "        raise ValueError(\"Cannot calculate the average of an empty list\")\n",
        "    return sum(values) / len(values)\n",
        "\n",
        "def find_maximum(values):\n",
        "    \"\"\"\n",
        "    Function to find the maximum value in the list.\n",
        "\n",
        "    Parameters:\n",
        "    values (list): The list of numbers.\n",
        "\n",
        "    Returns:\n",
        "    float: The maximum value in the list.\n",
        "    \"\"\"\n",
        "    if len(values) == 0:\n",
        "        raise ValueError(\"Cannot find maximum of an empty list\")\n",
        "    return max(values)\n",
        "\n",
        "def find_minimum(values):\n",
        "    \"\"\"\n",
        "    Function to find the minimum value in the list.\n",
        "\n",
        "    Parameters:\n",
        "    values (list): The list of numbers.\n",
        "\n",
        "    Returns:\n",
        "    float: The minimum value in the list.\n",
        "    \"\"\"\n",
        "    if len(values) == 0:\n",
        "        raise ValueError(\"Cannot find minimum of an empty list\")\n",
        "    return min(values)\n",
        "\n",
        "def main():\n",
        "    print(\"Welcome to the mathematical operations program!\")\n",
        "\n",
        "    try:\n",
        "        # Get the list of numbers from the user\n",
        "        values = input(\"Please enter a list of numbers separated by spaces: \").strip().split()\n",
        "\n",
        "        # Convert the input into a list of floats\n",
        "        values = [float(num) for num in values]\n",
        "\n",
        "        # Ask the user to choose an operation\n",
        "        operation = input(\"Choose an operation (sum, average, maximum, minimum): \").strip().lower()\n",
        "\n",
        "        # Perform the selected operation\n",
        "        if operation == 'sum':\n",
        "            result = calculate_sum(values)\n",
        "            print(f\"The sum of the numbers is: {result}\")\n",
        "        elif operation == 'average':\n",
        "            result = calculate_average(values)\n",
        "            print(f\"The average of the numbers is: {result}\")\n",
        "        elif operation == 'maximum':\n",
        "            result = find_maximum(values)\n",
        "            print(f\"The maximum value in the list is: {result}\")\n",
        "        elif operation == 'minimum':\n",
        "            result = find_minimum(values)\n",
        "            print(f\"The minimum value in the list is: {result}\")\n",
        "        else:\n",
        "            print(\"Invalid operation selected.\")\n",
        "    except ValueError as e:\n",
        "        print(f\"Error: {e}. Please make sure to enter valid numbers.\")\n",
        "    except Exception as e:\n",
        "        print(f\"An unexpected error occurred: {e}\")\n",
        "\n",
        "if __name__ == \"__main__\":\n",
        "    main()\n"
      ],
      "metadata": {
        "colab": {
          "base_uri": "https://localhost:8080/"
        },
        "id": "clGAlfuZCFl8",
        "outputId": "1f2cb66d-b017-49f3-e822-5df8d219cb81"
      },
      "execution_count": 5,
      "outputs": [
        {
          "output_type": "stream",
          "name": "stdout",
          "text": [
            "Welcome to the mathematical operations program!\n",
            "Please enter a list of numbers separated by spaces: 5 4 6 8  9 4 1 5 9\n",
            "Choose an operation (sum, average, maximum, minimum): sum\n",
            "The sum of the numbers is: 51.0\n"
          ]
        }
      ]
    },
    {
      "cell_type": "markdown",
      "source": [
        "# 10. To - Do - NumPy\n",
        "Please complete all the problems listed below:"
      ],
      "metadata": {
        "id": "jeF5_iwnEs4a"
      }
    },
    {
      "cell_type": "markdown",
      "source": [
        "# 10.1 Basic Vector and Matrix Operation with Numpy.\n",
        "\n",
        "Problem - 1: Array Creation:\n",
        "Complete the following Tasks:\n",
        "1. Initialize an empty array with size 2X2.\n",
        "2. Initialize an all one array with size 4X2.\n",
        "3. Return a new array of given shape and type, filled with fill value.{Hint: np.full}\n",
        "4. Return a new array of zeros with same shape and type as a given array.{Hint: np.zeros like}\n",
        "5. Return a new array of ones with same shape and type as a given array.{Hint: np.ones like}\n",
        "6. For an existing list new_list = [1,2,3,4] convert to an numpy array.{Hint: np.array()}"
      ],
      "metadata": {
        "id": "5bsrlMznCcPb"
      }
    },
    {
      "cell_type": "code",
      "source": [
        "import numpy as np\n",
        "\n",
        "# 1. Initialize an empty array with size 2x2\n",
        "empty_matrix = np.empty((2, 2))\n",
        "\n",
        "# 2. Initialize an all one array with size 4x2\n",
        "ones_matrix = np.ones((4, 2))\n",
        "\n",
        "# 3. Return a new array of given shape and type, filled with fill value\n",
        "filled_matrix = np.full((3, 3), 7)\n",
        "\n",
        "# 4. Return a new array of zeros with same shape and type as a given array\n",
        "reference_matrix = np.array([[1, 2], [3, 4]])\n",
        "zeros_matrix = np.zeros_like(reference_matrix)\n",
        "\n",
        "# 5. Return a new array of ones with same shape and type as a given array\n",
        "ones_like_matrix = np.ones_like(reference_matrix)\n",
        "\n",
        "# 6. Convert the existing list number_list = [1, 2, 3, 4] to a numpy array\n",
        "number_list = [1, 2, 3, 4]\n",
        "numpy_array = np.array(number_list)\n",
        "\n",
        "# Output the results\n",
        "print('empty_matrix')\n",
        "print(empty_matrix)\n",
        "\n",
        "print(\"ones_matrix\")\n",
        "print(ones_matrix)\n",
        "\n",
        "print(\"filled_matrix\")\n",
        "print(filled_matrix)\n",
        "\n",
        "print(\"zeros_matrix\")\n",
        "print(zeros_matrix)\n",
        "\n",
        "print(\"ones_like_matrix\")\n",
        "print(ones_like_matrix)\n",
        "\n",
        "print(\"numpy_array\")\n",
        "print(numpy_array)\n"
      ],
      "metadata": {
        "colab": {
          "base_uri": "https://localhost:8080/"
        },
        "id": "zoVA_FSgCbzD",
        "outputId": "ab98be04-8699-479b-8ce7-6881e6557b38"
      },
      "execution_count": 6,
      "outputs": [
        {
          "output_type": "stream",
          "name": "stdout",
          "text": [
            "empty_matrix\n",
            "[[1.90503393e-316 0.00000000e+000]\n",
            " [0.00000000e+000 7.68799911e-143]]\n",
            "ones_matrix\n",
            "[[1. 1.]\n",
            " [1. 1.]\n",
            " [1. 1.]\n",
            " [1. 1.]]\n",
            "filled_matrix\n",
            "[[7 7 7]\n",
            " [7 7 7]\n",
            " [7 7 7]]\n",
            "zeros_matrix\n",
            "[[0 0]\n",
            " [0 0]]\n",
            "ones_like_matrix\n",
            "[[1 1]\n",
            " [1 1]]\n",
            "numpy_array\n",
            "[1 2 3 4]\n"
          ]
        }
      ]
    },
    {
      "cell_type": "markdown",
      "source": [
        "# Problem - 2: Array Manipulation: Numerical Ranges and Array indexing:\n",
        "\n",
        "Complete the following tasks:\n",
        "1. Create an array with values ranging from 10 to 49. {Hint:np.arrange()}.\n",
        "2. Create a 3X3 matrix with values ranging from 0 to 8.\n",
        "{Hint:look for np.reshape()}\n",
        "3. Create a 3X3 identity matrix.{Hint:np.eye()}\n",
        "4. Create a random array of size 30 and find the mean of the array.\n",
        "{Hint:check for np.random.random() and array.mean() function}\n",
        "5. Create a 10X10 array with random values and find the minimum and maximum values.\n",
        "6. Create a zero array of size 10 and replace 5th element with 1.\n",
        "7. Reverse an array arr = [1,2,0,0,4,0].\n",
        "8. Create a 2d array with 1 on border and 0 inside.\n",
        "9. Create a 8X8 matrix and fill it with a checkerboard pattern."
      ],
      "metadata": {
        "id": "oO1GOO7nChv7"
      }
    },
    {
      "cell_type": "code",
      "source": [
        "import numpy as np\n",
        "\n",
        "# 1. Array with values ranging from 10 to 49\n",
        "range_array = np.arange(10, 50)\n",
        "\n",
        "# 2. 3x3 matrix with values ranging from 0 to 8\n",
        "matrix_3x3 = np.arange(9).reshape(3, 3)\n",
        "\n",
        "# 3. 3x3 identity matrix\n",
        "identity_matrix = np.eye(3)\n",
        "\n",
        "# 4. Random array of size 30 and find the mean of the array\n",
        "random_values = np.random.random(30)\n",
        "mean_random_values = random_values.mean()\n",
        "\n",
        "# 5. 10x10 array with random values and find the minimum and maximum values\n",
        "random_matrix_10x10 = np.random.random((10, 10))\n",
        "min_random_value = random_matrix_10x10.min()\n",
        "max_random_value = random_matrix_10x10.max()\n",
        "\n",
        "# 6. Zero array of size 10 and replace 5th element with 1\n",
        "modified_zero_array = np.zeros(10)\n",
        "modified_zero_array[4] = 1  # 5th element is index 4\n",
        "\n",
        "# 7. Reverse an array arr = [1, 2, 0, 0, 4, 0]\n",
        "original_array = np.array([1, 2, 0, 0, 4, 0])\n",
        "reversed_original_array = original_array[::-1]\n",
        "\n",
        "# 8. 2D array with 1 on the border and 0 inside\n",
        "border_matrix = np.ones((5, 5))\n",
        "border_matrix[1:-1, 1:-1] = 0\n",
        "\n",
        "# 9. 8x8 matrix and fill it with a checkerboard pattern\n",
        "checkerboard_matrix = np.zeros((8, 8))\n",
        "checkerboard_matrix[1::2, ::2] = 1\n",
        "checkerboard_matrix[::2, 1::2] = 1\n",
        "\n",
        "# Output the results\n",
        "print(\"Array with values from 10 to 49:\")\n",
        "print(range_array)\n",
        "print(\"\\n3x3 Matrix with values from 0 to 8:\")\n",
        "print(matrix_3x3)\n",
        "print(\"\\n3x3 Identity Matrix:\")\n",
        "print(identity_matrix)\n",
        "print(\"\\nMean of random array of size 30:\")\n",
        "print(mean_random_values)\n",
        "print(\"\\n10x10 Array with random values:\")\n",
        "print(random_matrix_10x10)\n",
        "print(\"Minimum value :\", min_random_value, \"\\nMaximum value:\", max_random_value)\n",
        "print(\"\\nZero array with 5th element replaced by 1:\")\n",
        "print(modified_zero_array)\n",
        "print(\"\\nReversed array:\")\n",
        "print(reversed_original_array)\n",
        "print(\"\\n2D Array with border 1 and inside 0:\")\n",
        "print(border_matrix)\n",
        "print(\"\\n8x8 Checkerboard pattern:\")\n",
        "print(checkerboard_matrix)\n"
      ],
      "metadata": {
        "colab": {
          "base_uri": "https://localhost:8080/"
        },
        "id": "yMLoBKLmCmGC",
        "outputId": "1113f155-2b03-4cca-c4e1-4ce6912c89a1"
      },
      "execution_count": 7,
      "outputs": [
        {
          "output_type": "stream",
          "name": "stdout",
          "text": [
            "Array with values from 10 to 49:\n",
            "[10 11 12 13 14 15 16 17 18 19 20 21 22 23 24 25 26 27 28 29 30 31 32 33\n",
            " 34 35 36 37 38 39 40 41 42 43 44 45 46 47 48 49]\n",
            "\n",
            "3x3 Matrix with values from 0 to 8:\n",
            "[[0 1 2]\n",
            " [3 4 5]\n",
            " [6 7 8]]\n",
            "\n",
            "3x3 Identity Matrix:\n",
            "[[1. 0. 0.]\n",
            " [0. 1. 0.]\n",
            " [0. 0. 1.]]\n",
            "\n",
            "Mean of random array of size 30:\n",
            "0.5003850862645154\n",
            "\n",
            "10x10 Array with random values:\n",
            "[[0.61467814 0.37372082 0.22285799 0.4204034  0.36028478 0.67189826\n",
            "  0.82192652 0.15967822 0.53618668 0.22722576]\n",
            " [0.4413672  0.48965537 0.64477861 0.87482119 0.48029636 0.55632812\n",
            "  0.18548831 0.47832563 0.12623076 0.22469111]\n",
            " [0.53253234 0.27268624 0.28069455 0.50730618 0.4058761  0.51987506\n",
            "  0.25448401 0.40555114 0.33772729 0.2607675 ]\n",
            " [0.61830165 0.81218479 0.28133255 0.95769839 0.88866088 0.60618043\n",
            "  0.70915878 0.17130257 0.26259576 0.19161439]\n",
            " [0.67688351 0.1524422  0.02857086 0.96267845 0.88818643 0.09604848\n",
            "  0.35912248 0.83241078 0.25728024 0.32598692]\n",
            " [0.34053301 0.27377134 0.70328785 0.4350757  0.76958277 0.97019006\n",
            "  0.71470774 0.05587217 0.26634133 0.96929413]\n",
            " [0.26250672 0.82259544 0.66038261 0.3724012  0.87511889 0.5972837\n",
            "  0.54498512 0.43605174 0.48028081 0.22832403]\n",
            " [0.77718132 0.44265644 0.78006102 0.63384434 0.07609998 0.4370296\n",
            "  0.88557352 0.23004367 0.50545494 0.77500678]\n",
            " [0.07245459 0.84353312 0.47903754 0.0223051  0.6451804  0.86134262\n",
            "  0.25339341 0.65012058 0.67566451 0.68571301]\n",
            " [0.66759761 0.41622292 0.42443632 0.84451718 0.26915699 0.92096578\n",
            "  0.49125843 0.68182419 0.76775607 0.33231795]]\n",
            "Minimum value : 0.022305102679737843 \n",
            "Maximum value: 0.9701900634297023\n",
            "\n",
            "Zero array with 5th element replaced by 1:\n",
            "[0. 0. 0. 0. 1. 0. 0. 0. 0. 0.]\n",
            "\n",
            "Reversed array:\n",
            "[0 4 0 0 2 1]\n",
            "\n",
            "2D Array with border 1 and inside 0:\n",
            "[[1. 1. 1. 1. 1.]\n",
            " [1. 0. 0. 0. 1.]\n",
            " [1. 0. 0. 0. 1.]\n",
            " [1. 0. 0. 0. 1.]\n",
            " [1. 1. 1. 1. 1.]]\n",
            "\n",
            "8x8 Checkerboard pattern:\n",
            "[[0. 1. 0. 1. 0. 1. 0. 1.]\n",
            " [1. 0. 1. 0. 1. 0. 1. 0.]\n",
            " [0. 1. 0. 1. 0. 1. 0. 1.]\n",
            " [1. 0. 1. 0. 1. 0. 1. 0.]\n",
            " [0. 1. 0. 1. 0. 1. 0. 1.]\n",
            " [1. 0. 1. 0. 1. 0. 1. 0.]\n",
            " [0. 1. 0. 1. 0. 1. 0. 1.]\n",
            " [1. 0. 1. 0. 1. 0. 1. 0.]]\n"
          ]
        }
      ]
    },
    {
      "cell_type": "markdown",
      "source": [
        "# Problem - 3: Array Operations:\n",
        "\n",
        "For the following arrays:\n",
        "\n",
        "x = np.array([[1,2],[3,5]]) and y = np.array([[5,6],[7,8]]);\n",
        "\n",
        "v = np.array([9,10]) and w = np.array([11,12]);\n",
        "\n",
        "Complete all the task using numpy:\n",
        "1. Add the two array.\n",
        "2. Subtract the two array.\n",
        "3. Multiply the array with any integers of your choice.\n",
        "4. Find the square of each element of the array.\n",
        "5. Find the dot product between: v(and)w ; x(and)v ; x(and)y.\n",
        "6. Concatenate x(and)y along row and Concatenate v(and)w along column.\n",
        "{Hint:try np.concatenate() or np.vstack() functions.\n",
        "7. Concatenate x(and)v; if you get an error, observe and explain why did you get the error?"
      ],
      "metadata": {
        "id": "IFhlFz2LCqqy"
      }
    },
    {
      "cell_type": "code",
      "source": [
        "import numpy as np\n",
        "\n",
        "# Given arrays\n",
        "matrix_x = np.array([[1, 2], [3, 5]])\n",
        "matrix_y = np.array([[5, 6], [7, 8]])\n",
        "vector_v = np.array([9, 10])\n",
        "vector_w = np.array([11, 12])\n",
        "\n",
        "# 1. Add the two arrays\n",
        "sum_result = matrix_x + matrix_y\n",
        "\n",
        "# 2. Subtract the two arrays\n",
        "difference_result = matrix_x - matrix_y\n",
        "\n",
        "# 3. Multiply the array with any integers of your choice\n",
        "scaled_matrix_x = matrix_x * 2  # Example: multiplying matrix_x by 2\n",
        "scaled_matrix_y = matrix_y * 3  # Example: multiplying matrix_y by 3\n",
        "\n",
        "# 4. Find the square of each element of the array\n",
        "squared_matrix_x = np.square(matrix_x)\n",
        "squared_matrix_y = np.square(matrix_y)\n",
        "\n",
        "# 5. Find the dot product between: vector_v and vector_w; matrix_x and vector_v; matrix_x and matrix_y\n",
        "dot_product_vw = np.dot(vector_v, vector_w)\n",
        "dot_product_xv = np.dot(matrix_x, vector_v)\n",
        "dot_product_xy = np.dot(matrix_x, matrix_y)\n",
        "\n",
        "# 6. Concatenate matrix_x and matrix_y along rows and concatenate vector_v and vector_w along columns\n",
        "concatenated_xy_rows = np.concatenate((matrix_x, matrix_y), axis=0)  # Concatenate along rows\n",
        "concatenated_vw_columns = np.concatenate((vector_v.reshape(-1, 1), vector_w.reshape(-1, 1)), axis=1)  # Concatenate along columns\n",
        "\n",
        "# 7. Concatenate matrix_x and vector_v; if an error occurs, observe and explain why\n",
        "try:\n",
        "    concatenated_xv = np.concatenate((matrix_x, vector_v), axis=0)  # Attempt to concatenate matrix_x and vector_v along rows\n",
        "except Exception as e:\n",
        "    concatenated_xv_error = str(e)\n",
        "\n",
        "# Output the results\n",
        "print(\"Addition of matrix_x and matrix_y:\")\n",
        "print(sum_result)\n",
        "print(\"\\nSubtraction of matrix_x and matrix_y:\")\n",
        "print(difference_result)\n",
        "print(\"\\nMultiplying matrix_x by 2 and matrix_y by 3:\")\n",
        "print(scaled_matrix_x)\n",
        "print(scaled_matrix_y)\n",
        "print(\"\\nSquare of elements in matrix_x:\")\n",
        "print(squared_matrix_x)\n",
        "print(\"\\nSquare of elements in matrix_y:\")\n",
        "print(squared_matrix_y)\n",
        "print(\"\\nDot product of vector_v and vector_w:\")\n",
        "print(dot_product_vw)\n",
        "print(\"\\nDot product of matrix_x and vector_v:\")\n",
        "print(dot_product_xv)\n",
        "print(\"\\nDot product of matrix_x and matrix_y:\")\n",
        "print(dot_product_xy)\n",
        "print(\"\\nConcatenate matrix_x and matrix_y along rows:\")\n",
        "print(concatenated_xy_rows)\n",
        "print(\"\\nConcatenate vector_v and vector_w along columns:\")\n",
        "print(concatenated_vw_columns)\n",
        "print(\"\\nConcatenating matrix_x and vector_v:\")\n",
        "print(concatenated_xv_error)\n"
      ],
      "metadata": {
        "colab": {
          "base_uri": "https://localhost:8080/"
        },
        "id": "rHxCF6VOCtt7",
        "outputId": "a8a4179e-202f-43a8-b9f2-ba056ec7ed5f"
      },
      "execution_count": 8,
      "outputs": [
        {
          "output_type": "stream",
          "name": "stdout",
          "text": [
            "Addition of matrix_x and matrix_y:\n",
            "[[ 6  8]\n",
            " [10 13]]\n",
            "\n",
            "Subtraction of matrix_x and matrix_y:\n",
            "[[-4 -4]\n",
            " [-4 -3]]\n",
            "\n",
            "Multiplying matrix_x by 2 and matrix_y by 3:\n",
            "[[ 2  4]\n",
            " [ 6 10]]\n",
            "[[15 18]\n",
            " [21 24]]\n",
            "\n",
            "Square of elements in matrix_x:\n",
            "[[ 1  4]\n",
            " [ 9 25]]\n",
            "\n",
            "Square of elements in matrix_y:\n",
            "[[25 36]\n",
            " [49 64]]\n",
            "\n",
            "Dot product of vector_v and vector_w:\n",
            "219\n",
            "\n",
            "Dot product of matrix_x and vector_v:\n",
            "[29 77]\n",
            "\n",
            "Dot product of matrix_x and matrix_y:\n",
            "[[19 22]\n",
            " [50 58]]\n",
            "\n",
            "Concatenate matrix_x and matrix_y along rows:\n",
            "[[1 2]\n",
            " [3 5]\n",
            " [5 6]\n",
            " [7 8]]\n",
            "\n",
            "Concatenate vector_v and vector_w along columns:\n",
            "[[ 9 11]\n",
            " [10 12]]\n",
            "\n",
            "Concatenating matrix_x and vector_v:\n",
            "all the input arrays must have same number of dimensions, but the array at index 0 has 2 dimension(s) and the array at index 1 has 1 dimension(s)\n"
          ]
        }
      ]
    },
    {
      "cell_type": "markdown",
      "source": [
        "# Problem - 4: Matrix Operations:\n",
        "\n",
        "• For the following arrays:\n",
        "\n",
        "A = np.array([[3,4],[7,8]])   and    B = np.array([[5,3],[2,1]]);\n",
        "\n",
        "Prove following with Numpy:\n",
        "1. Prove A.A−1 = I.\n",
        "2. Prove AB ̸= BA.\n",
        "3. Prove (AB)\n",
        "\n",
        "T = BTAT\n",
        ".\n",
        "\n",
        "• Solve the following system of Linear equation using Inverse Methods.\n",
        "\n",
        "2x − 3y + z = −1\n",
        "x − y + 2z = −3\n",
        "3x + y − z = 9\n",
        "\n",
        "{Hint: First use Numpy array to represent the equation in Matrix form. Then Solve for: AX = B}\n",
        "\n",
        "• Now: solve the above equation using np.linalg.inv function.{Explore more about ”linalg” func-\n",
        "tion of Numpy}"
      ],
      "metadata": {
        "id": "7YZPzu-zCxTY"
      }
    },
    {
      "cell_type": "code",
      "source": [
        "import numpy as np\n",
        "\n",
        "# Given matrices\n",
        "matrix_A = np.array([[3, 4], [7, 8]])\n",
        "matrix_B = np.array([[5, 3], [2, 1]])\n",
        "\n",
        "# 1. Prove A * A^-1 = I\n",
        "inverse_A = np.linalg.inv(matrix_A)\n",
        "identity_matrix = np.dot(matrix_A, inverse_A)\n",
        "print(\"A * A^-1 (should be identity matrix):\")\n",
        "print(identity_matrix)\n",
        "\n",
        "# 2. Prove AB != BA\n",
        "product_AB = np.dot(matrix_A, matrix_B)  # AB\n",
        "product_BA = np.dot(matrix_B, matrix_A)  # BA\n",
        "print(\"\\nAB:\")\n",
        "print(product_AB)\n",
        "print(\"\\nBA:\")\n",
        "print(product_BA)\n",
        "print(\"\\nIs AB equal to BA?\", np.array_equal(product_AB, product_BA))  # Checking if AB == BA\n",
        "\n",
        "# 3. Prove (AB)^T = B^T * A^T\n",
        "transpose_AB = np.transpose(product_AB)  # (AB)^T\n",
        "transpose_BA = np.dot(np.transpose(matrix_B), np.transpose(matrix_A))  # B^T * A^T\n",
        "print(\"\\n(AB)^T:\")\n",
        "print(transpose_AB)\n",
        "print(\"\\nB^T * A^T:\")\n",
        "print(transpose_BA)\n",
        "print(\"\\nIs (AB)^T equal to B^T * A^T?\", np.array_equal(transpose_AB, transpose_BA))\n",
        "\n",
        "# Solve the system of linear equations using inverse method:\n",
        "# 2x - 3y + z = -1\n",
        "# x - y + 2z = -3\n",
        "# 3x + y - z = 9\n",
        "\n",
        "# Represent the system in matrix form: AX = B\n",
        "coeff_matrix = np.array([[2, -3, 1], [1, -1, 2], [3, 1, -1]])\n",
        "const_matrix = np.array([-1, -3, 9])\n",
        "\n",
        "# Use the inverse of coeff_matrix to solve for variables (X = [x, y, z])\n",
        "inverse_coeff_matrix = np.linalg.inv(coeff_matrix)\n",
        "solution_variables = np.dot(inverse_coeff_matrix, const_matrix)\n",
        "\n",
        "print(\"\\nSolution to the system of equations (using inverse method):\")\n",
        "print(\"x =\", solution_variables[0])\n",
        "print(\"y =\", solution_variables[1])\n",
        "print(\"z =\", solution_variables[2])\n",
        "\n",
        "# Solve the system of equations using np.linalg.solve (alternative method)\n",
        "solution_linalg = np.linalg.solve(coeff_matrix, const_matrix)  # More efficient method\n",
        "print(\"\\nSolution using np.linalg.solve:\")\n",
        "print(\"x =\", solution_linalg[0])\n",
        "print(\"y =\", solution_linalg[1])\n",
        "print(\"z =\", solution_linalg[2])\n"
      ],
      "metadata": {
        "colab": {
          "base_uri": "https://localhost:8080/"
        },
        "id": "F4Ksc7wbC01F",
        "outputId": "91081b00-d75c-407c-a353-67435395490f"
      },
      "execution_count": 9,
      "outputs": [
        {
          "output_type": "stream",
          "name": "stdout",
          "text": [
            "A * A^-1 (should be identity matrix):\n",
            "[[1.00000000e+00 0.00000000e+00]\n",
            " [1.77635684e-15 1.00000000e+00]]\n",
            "\n",
            "AB:\n",
            "[[23 13]\n",
            " [51 29]]\n",
            "\n",
            "BA:\n",
            "[[36 44]\n",
            " [13 16]]\n",
            "\n",
            "Is AB equal to BA? False\n",
            "\n",
            "(AB)^T:\n",
            "[[23 51]\n",
            " [13 29]]\n",
            "\n",
            "B^T * A^T:\n",
            "[[23 51]\n",
            " [13 29]]\n",
            "\n",
            "Is (AB)^T equal to B^T * A^T? True\n",
            "\n",
            "Solution to the system of equations (using inverse method):\n",
            "x = 2.0\n",
            "y = 1.0\n",
            "z = -2.0\n",
            "\n",
            "Solution using np.linalg.solve:\n",
            "x = 2.0\n",
            "y = 1.0000000000000002\n",
            "z = -2.0\n"
          ]
        }
      ]
    },
    {
      "cell_type": "markdown",
      "source": [
        "# 10.2 Experiment: How Fast is Numpy?\n",
        "\n",
        "In this exercise, you will compare the performance and implementation of operations using plain Python\n",
        "lists (arrays) and NumPy arrays. Follow the instructions:"
      ],
      "metadata": {
        "id": "q6umw6PSC4Kj"
      }
    },
    {
      "cell_type": "markdown",
      "source": [
        "# 1. Element-wise Addition:\n",
        "\n",
        "• Using Python Lists, perform element-wise addition of two lists of size 1, 000, 000. Measure\n",
        "and Print the time taken for this operation.\n",
        "\n",
        "• Using Numpy Arrays, Repeat the calculation and measure and print the time taken for this operation."
      ],
      "metadata": {
        "id": "zy058v8FC9hU"
      }
    },
    {
      "cell_type": "code",
      "source": [
        "import time\n",
        "import numpy as np\n",
        "\n",
        "# Using Python Lists\n",
        "python_list_1 = [i for i in range(1000000)]\n",
        "python_list_2 = [i for i in range(1000000)]\n",
        "\n",
        "start_time = time.time()\n",
        "python_list_sum = [python_list_1[i] + python_list_2[i] for i in range(len(python_list_1))]\n",
        "end_time = time.time()\n",
        "print(\"Time taken for element-wise addition using Python lists:\", end_time - start_time)\n",
        "\n",
        "# Using NumPy Arrays\n",
        "numpy_array_1 = np.array(python_list_1)\n",
        "numpy_array_2 = np.array(python_list_2)\n",
        "\n",
        "start_time = time.time()\n",
        "numpy_array_sum = numpy_array_1 + numpy_array_2\n",
        "end_time = time.time()\n",
        "print(\"Time taken for element-wise addition using NumPy arrays:\", end_time - start_time)\n"
      ],
      "metadata": {
        "colab": {
          "base_uri": "https://localhost:8080/"
        },
        "id": "4EgY8zJaC_m-",
        "outputId": "328ee391-5606-4d0c-cd1e-d55121c32d35"
      },
      "execution_count": 10,
      "outputs": [
        {
          "output_type": "stream",
          "name": "stdout",
          "text": [
            "Time taken for element-wise addition using Python lists: 0.11920475959777832\n",
            "Time taken for element-wise addition using NumPy arrays: 0.00894618034362793\n"
          ]
        }
      ]
    },
    {
      "cell_type": "markdown",
      "source": [
        "# 2. Element-wise Multiplication\n",
        "\n",
        "• Using Python Lists, perform element-wise multiplication of two lists of size 1, 000, 000.\n",
        "Measure and Print the time taken for this operation.\n",
        "\n",
        "• Using Numpy Arrays, Repeat the calculation and measure and print the time taken for\n",
        "this operation."
      ],
      "metadata": {
        "id": "rlJjS-HEDBxC"
      }
    },
    {
      "cell_type": "code",
      "source": [
        "import time\n",
        "import numpy as np\n",
        "\n",
        "# Using Python Lists\n",
        "start_time = time.time()\n",
        "python_list_product = [python_list_1[i] * python_list_2[i] for i in range(len(python_list_1))]\n",
        "end_time = time.time()\n",
        "print(\"Time taken for element-wise multiplication using Python lists:\", end_time - start_time)\n",
        "\n",
        "# Using NumPy Arrays\n",
        "start_time = time.time()\n",
        "numpy_array_product = numpy_array_1 * numpy_array_2\n",
        "end_time = time.time()\n",
        "print(\"Time taken for element-wise multiplication using NumPy arrays:\", end_time - start_time)\n"
      ],
      "metadata": {
        "colab": {
          "base_uri": "https://localhost:8080/"
        },
        "id": "bBZ28YIBDPle",
        "outputId": "84658ffa-2248-4f50-aded-fe4466a47657"
      },
      "execution_count": 11,
      "outputs": [
        {
          "output_type": "stream",
          "name": "stdout",
          "text": [
            "Time taken for element-wise multiplication using Python lists: 0.10875940322875977\n",
            "Time taken for element-wise multiplication using NumPy arrays: 0.010037422180175781\n"
          ]
        }
      ]
    },
    {
      "cell_type": "markdown",
      "source": [
        "# 3. Dot Product\n",
        "\n",
        "• Using Python Lists, compute the dot product of two lists of size 1, 000, 000. Measure and\n",
        "Print the time taken for this operation.\n",
        "\n",
        "• Using Numpy Arrays, Repeat the calculation and measure and print the time taken for\n",
        "this operation."
      ],
      "metadata": {
        "id": "52hPZt0_DTwd"
      }
    },
    {
      "cell_type": "code",
      "source": [
        "# Using Python Lists\n",
        "start_time = time.time()\n",
        "python_list_dot_product = sum(python_list_1[i] * python_list_2[i] for i in range(len(python_list_1)))\n",
        "end_time = time.time()\n",
        "print(\"Time taken for dot product using Python lists:\", end_time - start_time)\n",
        "\n",
        "# Using NumPy Arrays\n",
        "start_time = time.time()\n",
        "numpy_array_dot_product = np.dot(numpy_array_1, numpy_array_2)\n",
        "end_time = time.time()\n",
        "print(\"Time taken for dot product using NumPy arrays:\", end_time - start_time)"
      ],
      "metadata": {
        "colab": {
          "base_uri": "https://localhost:8080/"
        },
        "id": "b98ingD-DWfo",
        "outputId": "64082ec3-2794-4050-d25b-38212fd04cc5"
      },
      "execution_count": 12,
      "outputs": [
        {
          "output_type": "stream",
          "name": "stdout",
          "text": [
            "Time taken for dot product using Python lists: 0.3692054748535156\n",
            "Time taken for dot product using NumPy arrays: 0.0030601024627685547\n"
          ]
        }
      ]
    },
    {
      "cell_type": "markdown",
      "source": [
        "# 4. Matrix Multiplication\n",
        "\n",
        "• Using Python lists, perform matrix multiplication of two matrices of size 1000x1000. Mea-\n",
        "sure and print the time taken for this operation.\n",
        "\n",
        "• Using NumPy arrays, perform matrix multiplication of two matrices of size 1000x1000.\n",
        "Measure and print the time taken for this operation."
      ],
      "metadata": {
        "id": "jMeBzgVDDaLv"
      }
    },
    {
      "cell_type": "code",
      "source": [
        "# Using Python Lists\n",
        "python_matrix_1 = [[i + j for j in range(1000)] for i in range(1000)]\n",
        "python_matrix_2 = [[i - j for j in range(1000)] for i in range(1000)]\n",
        "\n",
        "start_time = time.time()\n",
        "python_matrix_multiplication = [[sum(python_matrix_1[i][k] * python_matrix_2[k][j] for k in range(1000)) for j in range(1000)] for i in range(1000)]\n",
        "end_time = time.time()\n",
        "print(\"Time taken for matrix multiplication using Python lists:\", end_time - start_time)\n",
        "\n",
        "# Using NumPy Arrays\n",
        "numpy_matrix_1 = np.array(python_matrix_1)\n",
        "numpy_matrix_2 = np.array(python_matrix_2)\n",
        "\n",
        "start_time = time.time()\n",
        "numpy_matrix_multiplication = np.dot(numpy_matrix_1, numpy_matrix_2)\n",
        "end_time = time.time()\n",
        "print(\"Time taken for matrix multiplication using NumPy arrays:\", end_time - start_time)"
      ],
      "metadata": {
        "colab": {
          "base_uri": "https://localhost:8080/"
        },
        "id": "t4BD6QlQDcar",
        "outputId": "6fa3e967-5ba8-48f8-9924-4163502b16f3"
      },
      "execution_count": 13,
      "outputs": [
        {
          "output_type": "stream",
          "name": "stdout",
          "text": [
            "Time taken for matrix multiplication using Python lists: 217.901837348938\n",
            "Time taken for matrix multiplication using NumPy arrays: 2.399984359741211\n"
          ]
        }
      ]
    }
  ]
}