{
  "nbformat": 4,
  "nbformat_minor": 0,
  "metadata": {
    "colab": {
      "provenance": [],
      "mount_file_id": "1V6CsmtXZQVNeNfPHMlBeTeyfZ3sYWsMo",
      "authorship_tag": "ABX9TyM78n49tsu8PR5lMSnc8fcI",
      "include_colab_link": true
    },
    "kernelspec": {
      "name": "python3",
      "display_name": "Python 3"
    },
    "language_info": {
      "name": "python"
    }
  },
  "cells": [
    {
      "cell_type": "markdown",
      "metadata": {
        "id": "view-in-github",
        "colab_type": "text"
      },
      "source": [
        "<a href=\"https://colab.research.google.com/github/pradhansumitXD/AI-ML/blob/main/AI%26ML_Worksheet0.ipynb\" target=\"_parent\"><img src=\"https://colab.research.google.com/assets/colab-badge.svg\" alt=\"Open In Colab\"/></a>"
      ]
    },
    {
      "cell_type": "markdown",
      "source": [
        "# 4. TO - DO - Task Please complete all the problem listed below.\n",
        "\n"
      ],
      "metadata": {
        "id": "OqQzsGrFEdrW"
      }
    },
    {
      "cell_type": "markdown",
      "source": [
        "# 4.1 Exercise on Functions:\n",
        "\n",
        "Task - 1:\n",
        "Create a Python program that converts between different units of measurement.\n",
        "• The program should:\n",
        "1. Prompt the user to choose the type of conversion (e.g., length, weight, volume).\n",
        "2. Ask the user to input the value to be converted.\n",
        "3. Perform the conversion and display the result.\n",
        "4. Handle potential errors, such as invalid input or unsupported conversion types.\n",
        "• Requirements:\n",
        "1. Functions: Define at least one function to perform the conversion.\n",
        "2. Error Handling: Use try-except blocks to handle invalid input (e.g., non-numeric values).\n",
        "3. User Input: Prompt the user to select the conversion type and input the value.\n",
        "4. Docstrings: Include a docstring in your function to describe its purpose, parameters, and\n",
        "return value.\n",
        "• Conversion Options:\n",
        "1. Length:\n",
        "– Convert meters (m) to feet (ft).\n",
        "– Convert feet (ft) to meters (m).\n",
        "2. Weight:\n",
        "– Convert kilograms (kg) to pounds (lbs).\n",
        "– Convert pounds (lbs) to kilograms (kg).\n",
        "3. Volume:\n",
        "– Convert liters (L) to gallons (gal).\n",
        "– Convert gallons (gal) to liters (L)."
      ],
      "metadata": {
        "id": "eKxeV3BkA8Uh"
      }
    },
    {
      "cell_type": "code",
      "execution_count": 4,
      "metadata": {
        "colab": {
          "base_uri": "https://localhost:8080/"
        },
        "id": "tVyDHCtzAvxU",
        "outputId": "17fba603-5d18-4780-f9a1-1d73ac4a6bc5"
      },
      "outputs": [
        {
          "output_type": "stream",
          "name": "stdout",
          "text": [
            "Welcome to the unit conversion program!\n",
            "Choose conversion type (length, weight, volume): volume\n",
            "Enter the value to be converted: 32\n",
            "Enter the unit to convert from (L for liters, gal for gallons): 1\n",
            "Enter the unit to convert to (L for liters, gal for gallons): gal\n",
            "Error: Invalid units for volume conversion. Please ensure you enter a valid numeric value and unit combination.\n"
          ]
        }
      ],
      "source": [
        "import numpy as np\n",
        "def convert_length(value, from_unit, to_unit):\n",
        "    \"\"\"\n",
        "    Convert length between meters and feet.\n",
        "\n",
        "    Parameters:\n",
        "    value (float): The value to be converted.\n",
        "    from_unit (str): The unit to convert from ('m' or 'ft').\n",
        "    to_unit (str): The unit to convert to ('m' or 'ft').\n",
        "\n",
        "    Returns:\n",
        "    float: The converted value.\n",
        "    \"\"\"\n",
        "    if from_unit == 'm' and to_unit == 'ft':\n",
        "        return np.multiply(value, 3.28084)  # meters to feet\n",
        "    elif from_unit == 'ft' and to_unit == 'm':\n",
        "        return np.divide(value, 3.28084)  # feet to meters\n",
        "    else:\n",
        "        raise ValueError(\"Invalid units for length conversion\")\n",
        "\n",
        "def convert_weight(value, from_unit, to_unit):\n",
        "    \"\"\"\n",
        "    Convert weight between kilograms and pounds.\n",
        "\n",
        "    Parameters:\n",
        "    value (float): The value to be converted.\n",
        "    from_unit (str): The unit to convert from ('kg' or 'lbs').\n",
        "    to_unit (str): The unit to convert to ('kg' or 'lbs').\n",
        "\n",
        "    Returns:\n",
        "    float: The converted value.\n",
        "    \"\"\"\n",
        "    if from_unit == 'kg' and to_unit == 'lbs':\n",
        "        return np.multiply(value, 2.20462)  # kilograms to pounds\n",
        "    elif from_unit == 'lbs' and to_unit == 'kg':\n",
        "        return np.divide(value, 2.20462)  # pounds to kilograms\n",
        "    else:\n",
        "        raise ValueError(\"Invalid units for weight conversion\")\n",
        "\n",
        "def convert_volume(value, from_unit, to_unit):\n",
        "    \"\"\"\n",
        "    Convert volume between liters and gallons.\n",
        "\n",
        "    Parameters:\n",
        "    value (float): The value to be converted.\n",
        "    from_unit (str): The unit to convert from ('L' or 'gal').\n",
        "    to_unit (str): The unit to convert to ('L' or 'gal').\n",
        "\n",
        "    Returns:\n",
        "    float: The converted value.\n",
        "    \"\"\"\n",
        "    if from_unit == 'L' and to_unit == 'gal':\n",
        "        return np.multiply(value, 0.264172)  # liters to gallons\n",
        "    elif from_unit == 'gal' and to_unit == 'L':\n",
        "        return np.divide(value, 0.264172)  # gallons to liters\n",
        "    else:\n",
        "        raise ValueError(\"Invalid units for volume conversion\")\n",
        "\n",
        "def main():\n",
        "    print(\"Welcome to the unit conversion program!\")\n",
        "\n",
        "    # Choose conversion type\n",
        "    conversion_type = input(\"Choose conversion type (length, weight, volume): \").strip().lower()\n",
        "\n",
        "    if conversion_type not in ['length', 'weight', 'volume']:\n",
        "        print(\"Error: Invalid conversion type selected!\")\n",
        "        return\n",
        "\n",
        "    try:\n",
        "        # Get value to be converted\n",
        "        value = float(input(\"Enter the value to be converted: \"))\n",
        "\n",
        "        # Process based on conversion type\n",
        "        if conversion_type == 'length':\n",
        "            from_unit = input(\"Enter the unit to convert from (m for meters, ft for feet): \").strip()\n",
        "            to_unit = input(\"Enter the unit to convert to (m for meters, ft for feet): \").strip()\n",
        "            result = convert_length(value, from_unit, to_unit)\n",
        "\n",
        "        elif conversion_type == 'weight':\n",
        "            from_unit = input(\"Enter the unit to convert from (kg for kilograms, lbs for pounds): \").strip()\n",
        "            to_unit = input(\"Enter the unit to convert to (kg for kilograms, lbs for pounds): \").strip()\n",
        "            result = convert_weight(value, from_unit, to_unit)\n",
        "\n",
        "        elif conversion_type == 'volume':\n",
        "            from_unit = input(\"Enter the unit to convert from (L for liters, gal for gallons): \").strip()\n",
        "            to_unit = input(\"Enter the unit to convert to (L for liters, gal for gallons): \").strip()\n",
        "            result = convert_volume(value, from_unit, to_unit)\n",
        "\n",
        "        # Output result\n",
        "        print(f\"The converted value is: {result}\")\n",
        "\n",
        "    except ValueError as e:\n",
        "        print(f\"Error: {e}. Please ensure you enter a valid numeric value and unit combination.\")\n",
        "\n",
        "if __name__ == \"__main__\":\n",
        "    main()\n"
      ]
    },
    {
      "cell_type": "markdown",
      "source": [
        "# Task - 2:\n",
        "Create a Python program that performs various mathematical operations on a list of numbers.\n",
        "• The Program should:\n",
        "1. Prompt the user to choose an operation (e.g., find the sum, average, maximum, or minimum\n",
        "of the numbers).\n",
        "2. Ask the user to input a list of numbers (separated by spaces).\n",
        "\n",
        "\n",
        "3. Perform the selected operation and display the result.\n",
        "4. Handle potential errors, such as invalid input or empty lists.\n",
        "• Requirements:\n",
        "\n",
        "1. Functions: Define at least one function for each operation (sum, average, maximum, mini-\n",
        "mum).\n",
        "\n",
        "2. Error Handling: Use try-except blocks to handle invalid input (e.g., non-numeric values or\n",
        "empty lists).\n",
        "3. User Input: Prompt the user to select the operation and input the list of numbers.\n",
        "4. Docstrings: Include a docstring in each function to describe its purpose, parameters, and\n",
        "return value."
      ],
      "metadata": {
        "id": "iyW9HvawBz_F"
      }
    },
    {
      "cell_type": "code",
      "source": [
        "def sum_arr(numbers):\n",
        "    \"\"\"\n",
        "    Function to calculate the sum of the numbers in the list.\n",
        "\n",
        "    Parameters:\n",
        "    numbers (list): The list of numbers to be summed.\n",
        "\n",
        "    Returns:\n",
        "    float: The sum of the numbers.\n",
        "    \"\"\"\n",
        "    return sum(numbers)\n",
        "\n",
        "def avg_arr(numbers):\n",
        "    \"\"\"\n",
        "    Function to calculate the average of the numbers in the list.\n",
        "\n",
        "    Parameters:\n",
        "    numbers (list): The list of numbers to calculate the average of.\n",
        "\n",
        "    Returns:\n",
        "    float: The average of the numbers.\n",
        "    \"\"\"\n",
        "    if len(numbers) == 0:\n",
        "        raise ValueError(\"Cannot calculate the average of an empty list\")\n",
        "    return sum(numbers) / len(numbers)\n",
        "\n",
        "def maximum_arr(numbers):\n",
        "    \"\"\"\n",
        "    Function to find the maximum value in the list.\n",
        "\n",
        "    Parameters:\n",
        "    numbers (list): The list of numbers.\n",
        "\n",
        "    Returns:\n",
        "    float: The maximum value in the list.\n",
        "    \"\"\"\n",
        "    if len(numbers) == 0:\n",
        "        raise ValueError(\"Cannot find maximum of an empty list\")\n",
        "    return max(numbers)\n",
        "\n",
        "def minimum_arr(numbers):\n",
        "    \"\"\"\n",
        "    Function to find the minimum value in the list.\n",
        "\n",
        "    Parameters:\n",
        "    numbers (list): The list of numbers.\n",
        "\n",
        "    Returns:\n",
        "    float: The minimum value in the list.\n",
        "    \"\"\"\n",
        "    if len(numbers) == 0:\n",
        "        raise ValueError(\"Cannot find minimum of an empty list\")\n",
        "    return min(numbers)\n",
        "\n",
        "def main():\n",
        "    print(\"Welcome to the mathematical operations program!\")\n",
        "\n",
        "    try:\n",
        "        # Get the list of numbers from the user\n",
        "        numbers = input(\"Please enter a list of numbers separated by spaces: \").strip().split()\n",
        "\n",
        "        # Convert the input into a list of floats\n",
        "        numbers = [float(num) for num in numbers]\n",
        "\n",
        "        # Ask the user to choose an operation\n",
        "        operation = input(\"Choose an operation (sum, average, maximum, minimum): \").strip().lower()\n",
        "\n",
        "        # Perform the selected operation\n",
        "        if operation == 'sum':\n",
        "            result = sum_arr(numbers)\n",
        "            print(f\"The sum of the numbers is: {result}\")\n",
        "        elif operation == 'average':\n",
        "            result = avg_arr(numbers)\n",
        "            print(f\"The average of the numbers is: {result}\")\n",
        "        elif operation == 'maximum':\n",
        "            result = maximum_arr(numbers)\n",
        "            print(f\"The maximum value in the list is: {result}\")\n",
        "        elif operation == 'minimum':\n",
        "            result = minimum_arr(numbers)\n",
        "            print(f\"The minimum value in the list is: {result}\")\n",
        "        else:\n",
        "            print(\"Invalid operation selected.\")\n",
        "    except ValueError as e:\n",
        "        print(f\"Error: {e}. Please make sure to enter valid numbers.\")\n",
        "    except Exception as e:\n",
        "        print(f\"An unexpected error occurred: {e}\")\n",
        "\n",
        "if __name__ == \"__main__\":\n",
        "    main()\n"
      ],
      "metadata": {
        "colab": {
          "base_uri": "https://localhost:8080/"
        },
        "id": "clGAlfuZCFl8",
        "outputId": "68a65d69-0df9-4031-bdb5-23384e6af762"
      },
      "execution_count": 5,
      "outputs": [
        {
          "output_type": "stream",
          "name": "stdout",
          "text": [
            "Welcome to the mathematical operations program!\n",
            "Please enter a list of numbers separated by spaces: 5 4 6 8 9 4 1 5 9 \n",
            "Choose an operation (sum, average, maximum, minimum): sum\n",
            "The sum of the numbers is: 51.0\n"
          ]
        }
      ]
    },
    {
      "cell_type": "markdown",
      "source": [
        "# 10. To - Do - NumPy\n",
        "Please complete all the problems listed below:"
      ],
      "metadata": {
        "id": "jeF5_iwnEs4a"
      }
    },
    {
      "cell_type": "markdown",
      "source": [
        "# 10.1 Basic Vector and Matrix Operation with Numpy.\n",
        "\n",
        "Problem - 1: Array Creation:\n",
        "Complete the following Tasks:\n",
        "1. Initialize an empty array with size 2X2.\n",
        "2. Initialize an all one array with size 4X2.\n",
        "3. Return a new array of given shape and type, filled with fill value.{Hint: np.full}\n",
        "4. Return a new array of zeros with same shape and type as a given array.{Hint: np.zeros like}\n",
        "5. Return a new array of ones with same shape and type as a given array.{Hint: np.ones like}\n",
        "6. For an existing list new_list = [1,2,3,4] convert to an numpy array.{Hint: np.array()}"
      ],
      "metadata": {
        "id": "5bsrlMznCcPb"
      }
    },
    {
      "cell_type": "code",
      "source": [
        "import numpy as np\n",
        "\n",
        "# 1. Initialize an empty array with size 2x2\n",
        "empty_array = np.empty((2, 2))\n",
        "\n",
        "# 2. Initialize an all one array with size 4x2\n",
        "ones_array = np.ones((4, 2))\n",
        "\n",
        "# 3. Return a new array of given shape and type, filled with fill value\n",
        "fill_value_array = np.full((3, 3), 7)\n",
        "\n",
        "# 4. Return a new array of zeros with same shape and type as a given array\n",
        "existing_array = np.array([[1, 2], [3, 4]])\n",
        "zeros_like_array = np.zeros_like(existing_array)\n",
        "\n",
        "# 5. Return a new array of ones with same shape and type as a given array\n",
        "ones_like_array = np.ones_like(existing_array)\n",
        "\n",
        "# 6. Convert the existing list new_list = [1, 2, 3, 4] to a numpy array\n",
        "new_list = [1, 2, 3, 4]\n",
        "numpy_array_from_list = np.array(new_list)\n",
        "\n",
        "# Output the results\n",
        "print('empty_array')\n",
        "print(empty_array)\n",
        "\n",
        "print(\"ones_array\")\n",
        "print(ones_array)\n",
        "\n",
        "print(\"fill_value_array\")\n",
        "print(fill_value_array)\n",
        "\n",
        "print(\"zeros_like_array\")\n",
        "print(zeros_like_array)\n",
        "\n",
        "print(\"ones_like_array\")\n",
        "print(ones_like_array)\n",
        "\n",
        "print(\"numpy_array_from_list\")\n",
        "print(numpy_array_from_list)\n"
      ],
      "metadata": {
        "colab": {
          "base_uri": "https://localhost:8080/"
        },
        "id": "zoVA_FSgCbzD",
        "outputId": "56de1287-958b-441e-becf-7e3925a1bfd6"
      },
      "execution_count": 6,
      "outputs": [
        {
          "output_type": "stream",
          "name": "stdout",
          "text": [
            "empty_array\n",
            "[[2.56089693e-316 0.00000000e+000]\n",
            " [9.38185117e-154 1.16304933e+214]]\n",
            "ones_array\n",
            "[[1. 1.]\n",
            " [1. 1.]\n",
            " [1. 1.]\n",
            " [1. 1.]]\n",
            "fill_value_array\n",
            "[[7 7 7]\n",
            " [7 7 7]\n",
            " [7 7 7]]\n",
            "zeros_like_array\n",
            "[[0 0]\n",
            " [0 0]]\n",
            "ones_like_array\n",
            "[[1 1]\n",
            " [1 1]]\n",
            "numpy_array_from_list\n",
            "[1 2 3 4]\n"
          ]
        }
      ]
    },
    {
      "cell_type": "markdown",
      "source": [
        "# Problem - 2: Array Manipulation: Numerical Ranges and Array indexing:\n",
        "\n",
        "Complete the following tasks:\n",
        "1. Create an array with values ranging from 10 to 49. {Hint:np.arrange()}.\n",
        "2. Create a 3X3 matrix with values ranging from 0 to 8.\n",
        "{Hint:look for np.reshape()}\n",
        "3. Create a 3X3 identity matrix.{Hint:np.eye()}\n",
        "4. Create a random array of size 30 and find the mean of the array.\n",
        "{Hint:check for np.random.random() and array.mean() function}\n",
        "5. Create a 10X10 array with random values and find the minimum and maximum values.\n",
        "6. Create a zero array of size 10 and replace 5th element with 1.\n",
        "7. Reverse an array arr = [1,2,0,0,4,0].\n",
        "8. Create a 2d array with 1 on border and 0 inside.\n",
        "9. Create a 8X8 matrix and fill it with a checkerboard pattern."
      ],
      "metadata": {
        "id": "oO1GOO7nChv7"
      }
    },
    {
      "cell_type": "code",
      "source": [
        "import numpy as np\n",
        "\n",
        "# 1.an array with values ranging from 10 to 49\n",
        "arr1 = np.arange(10, 50)\n",
        "\n",
        "# 2.3x3 matrix with values ranging from 0 to 8\n",
        "arr2 = np.arange(9).reshape(3, 3)\n",
        "\n",
        "# 3.   3x3 identity matrix\n",
        "arr3 = np.eye(3)\n",
        "\n",
        "# 4.  random array of size 30 and find the mean of the array\n",
        "random_array = np.random.random(30)\n",
        "mean_value = random_array.mean()\n",
        "\n",
        "# 5. 10x10 array with random values and find the minimum and maximum values\n",
        "random_10x10 = np.random.random((10, 10))\n",
        "min_value = random_10x10.min()\n",
        "max_value = random_10x10.max()\n",
        "\n",
        "# 6. zero array of size 10 and replace 5th element with 1\n",
        "zero_array = np.zeros(10)\n",
        "zero_array[4] = 1  # 5th element is index 4\n",
        "\n",
        "# 7. Reverse an array arr = [1, 2, 0, 0, 4, 0]\n",
        "arr_to_reverse = np.array([1, 2, 0, 0, 4, 0])\n",
        "reversed_array = arr_to_reverse[::-1]\n",
        "\n",
        "# 8.  2d array with 1 on the border and 0 inside\n",
        "border_array = np.ones((5, 5))\n",
        "border_array[1:-1, 1:-1] = 0\n",
        "\n",
        "# 9.  8x8 matrix and fill it with a checkerboard pattern\n",
        "checkerboard = np.zeros((8, 8))\n",
        "checkerboard[1::2, ::2] = 1\n",
        "checkerboard[::2, 1::2] = 1\n",
        "\n",
        "# Output the results\n",
        "print(\"Array with values from 10 to 49:\")\n",
        "print(arr1)\n",
        "print(\"\\n3x3 Matrix with values from 0 to 8:\")\n",
        "print(arr2)\n",
        "print(\"\\n3x3 Identity Matrix:\")\n",
        "print(arr3)\n",
        "print(\"\\nMean of random array of size 30:\")\n",
        "print(mean_value)\n",
        "print(\"\\n10x10 Array with random values:\")\n",
        "print(random_10x10)\n",
        "print(\"Minimum value :\", min_value, \"\\nMaximum value:\", max_value)\n",
        "print(\"\\nZero array with 5th element replaced by 1:\")\n",
        "print(zero_array)\n",
        "print(\"\\nReversed array:\")\n",
        "print(reversed_array)\n",
        "print(\"\\n2D Array with border 1 and inside 0:\")\n",
        "print(border_array)\n",
        "print(\"\\n8x8 Checkerboard pattern:\")\n",
        "print(checkerboard)\n"
      ],
      "metadata": {
        "colab": {
          "base_uri": "https://localhost:8080/"
        },
        "id": "yMLoBKLmCmGC",
        "outputId": "8f3b3ed6-63e5-4580-fe39-56482f494f8c"
      },
      "execution_count": 7,
      "outputs": [
        {
          "output_type": "stream",
          "name": "stdout",
          "text": [
            "Array with values from 10 to 49:\n",
            "[10 11 12 13 14 15 16 17 18 19 20 21 22 23 24 25 26 27 28 29 30 31 32 33\n",
            " 34 35 36 37 38 39 40 41 42 43 44 45 46 47 48 49]\n",
            "\n",
            "3x3 Matrix with values from 0 to 8:\n",
            "[[0 1 2]\n",
            " [3 4 5]\n",
            " [6 7 8]]\n",
            "\n",
            "3x3 Identity Matrix:\n",
            "[[1. 0. 0.]\n",
            " [0. 1. 0.]\n",
            " [0. 0. 1.]]\n",
            "\n",
            "Mean of random array of size 30:\n",
            "0.48026636512126775\n",
            "\n",
            "10x10 Array with random values:\n",
            "[[0.31771547 0.53981545 0.48718622 0.65334421 0.62068493 0.71287721\n",
            "  0.52714162 0.7504365  0.28650673 0.67355678]\n",
            " [0.15633386 0.60898837 0.15683761 0.00642184 0.603462   0.35063132\n",
            "  0.51770093 0.65306459 0.89034728 0.4255459 ]\n",
            " [0.27326798 0.10629624 0.07149826 0.74210794 0.05808604 0.94760347\n",
            "  0.6809107  0.89305635 0.02801638 0.58661562]\n",
            " [0.73813401 0.09548188 0.27702057 0.7656058  0.96113569 0.10738525\n",
            "  0.63043906 0.65517006 0.9912896  0.73469271]\n",
            " [0.39779844 0.11774518 0.48066986 0.96186591 0.91923807 0.79501013\n",
            "  0.48738163 0.25272888 0.13617327 0.76632099]\n",
            " [0.9766343  0.82707608 0.4194079  0.50155176 0.33861515 0.74910311\n",
            "  0.49700094 0.6101398  0.91720543 0.94111873]\n",
            " [0.32756659 0.16729885 0.57183631 0.48545532 0.65936477 0.09393223\n",
            "  0.07636253 0.15281133 0.60523036 0.30527697]\n",
            " [0.06693746 0.08213587 0.29334676 0.68310692 0.96542589 0.86261603\n",
            "  0.76643091 0.59108638 0.9417589  0.54815552]\n",
            " [0.17562188 0.38129662 0.24267606 0.40407918 0.65032401 0.22651743\n",
            "  0.82061667 0.11331249 0.76207336 0.46889361]\n",
            " [0.2119261  0.45282376 0.29364017 0.98086956 0.43625757 0.62855112\n",
            "  0.98720822 0.22648959 0.8714763  0.412012  ]]\n",
            "Minimum value : 0.006421837173187006 \n",
            "Maximum value: 0.9912895951485463\n",
            "\n",
            "Zero array with 5th element replaced by 1:\n",
            "[0. 0. 0. 0. 1. 0. 0. 0. 0. 0.]\n",
            "\n",
            "Reversed array:\n",
            "[0 4 0 0 2 1]\n",
            "\n",
            "2D Array with border 1 and inside 0:\n",
            "[[1. 1. 1. 1. 1.]\n",
            " [1. 0. 0. 0. 1.]\n",
            " [1. 0. 0. 0. 1.]\n",
            " [1. 0. 0. 0. 1.]\n",
            " [1. 1. 1. 1. 1.]]\n",
            "\n",
            "8x8 Checkerboard pattern:\n",
            "[[0. 1. 0. 1. 0. 1. 0. 1.]\n",
            " [1. 0. 1. 0. 1. 0. 1. 0.]\n",
            " [0. 1. 0. 1. 0. 1. 0. 1.]\n",
            " [1. 0. 1. 0. 1. 0. 1. 0.]\n",
            " [0. 1. 0. 1. 0. 1. 0. 1.]\n",
            " [1. 0. 1. 0. 1. 0. 1. 0.]\n",
            " [0. 1. 0. 1. 0. 1. 0. 1.]\n",
            " [1. 0. 1. 0. 1. 0. 1. 0.]]\n"
          ]
        }
      ]
    },
    {
      "cell_type": "markdown",
      "source": [
        "# Problem - 3: Array Operations:\n",
        "\n",
        "For the following arrays:\n",
        "\n",
        "x = np.array([[1,2],[3,5]]) and y = np.array([[5,6],[7,8]]);\n",
        "\n",
        "v = np.array([9,10]) and w = np.array([11,12]);\n",
        "\n",
        "Complete all the task using numpy:\n",
        "1. Add the two array.\n",
        "2. Subtract the two array.\n",
        "3. Multiply the array with any integers of your choice.\n",
        "4. Find the square of each element of the array.\n",
        "5. Find the dot product between: v(and)w ; x(and)v ; x(and)y.\n",
        "6. Concatenate x(and)y along row and Concatenate v(and)w along column.\n",
        "{Hint:try np.concatenate() or np.vstack() functions.\n",
        "7. Concatenate x(and)v; if you get an error, observe and explain why did you get the error?"
      ],
      "metadata": {
        "id": "IFhlFz2LCqqy"
      }
    },
    {
      "cell_type": "code",
      "source": [
        "import numpy as np\n",
        "\n",
        "# Given arrays\n",
        "x = np.array([[1, 2], [3, 5]])\n",
        "y = np.array([[5, 6], [7, 8]])\n",
        "v = np.array([9, 10])\n",
        "w = np.array([11, 12])\n",
        "\n",
        "# 1. Add the two arrays\n",
        "result_add = x + y\n",
        "\n",
        "# 2. Subtract the two arrays\n",
        "result_sub = x - y\n",
        "\n",
        "# 3. Multiply the array with any integers of your choice\n",
        "result_mul_x = x * 2  # Example: multiplying x by 2\n",
        "result_mul_y = y * 3  # Example: multiplying y by 3\n",
        "\n",
        "# 4. Find the square of each element of the array\n",
        "result_square_x = np.square(x)\n",
        "result_square_y = np.square(y)\n",
        "\n",
        "# 5. Find the dot product between: v and w; x and v; x and y\n",
        "dot_vw = np.dot(v, w)\n",
        "dot_xv = np.dot(x, v)\n",
        "dot_xy = np.dot(x, y)\n",
        "\n",
        "# 6. Concatenate x and y along rows and concatenate v and w along columns\n",
        "concat_xy_rows = np.concatenate((x, y), axis=0)  # Concatenate along rows\n",
        "concat_vw_columns = np.concatenate((v.reshape(-1, 1), w.reshape(-1, 1)), axis=1)  # Concatenate along columns\n",
        "\n",
        "# 7. Concatenate x and v; if an error occurs, observe and explain why\n",
        "try:\n",
        "    concat_xv = np.concatenate((x, v), axis=0)  # Attempt to concatenate x and v along rows\n",
        "except Exception as e:\n",
        "    concat_xv_error = str(e)\n",
        "\n",
        "# Output the results\n",
        "print(\"Addition of x and y:\")\n",
        "print(result_add)\n",
        "print(\"\\nSubtraction of x and y:\")\n",
        "print(result_sub)\n",
        "print(\"\\nMultiplying x by 2 and y by 3:\")\n",
        "print(result_mul_x)\n",
        "print(result_mul_y)\n",
        "print(\"\\nSquare of elements in x:\")\n",
        "print(result_square_x)\n",
        "print(\"\\nSquare of elements in y:\")\n",
        "print(result_square_y)\n",
        "print(\"\\nDot product of v and w:\")\n",
        "print(dot_vw)\n",
        "print(\"\\nDot product of x and v:\")\n",
        "print(dot_xv)\n",
        "print(\"\\nDot product of x and y:\")\n",
        "print(dot_xy)\n",
        "print(\"\\nConcatenate x and y along rows:\")\n",
        "print(concat_xy_rows)\n",
        "print(\"\\nConcatenate v and w along columns:\")\n",
        "print(concat_vw_columns)\n",
        "print(\"\\nConcatenating x and v :\")\n",
        "print(concat_xv_error )\n"
      ],
      "metadata": {
        "colab": {
          "base_uri": "https://localhost:8080/"
        },
        "id": "rHxCF6VOCtt7",
        "outputId": "cc632fa0-5a7c-43ec-d3c8-0ccde4440eb0"
      },
      "execution_count": 8,
      "outputs": [
        {
          "output_type": "stream",
          "name": "stdout",
          "text": [
            "Addition of x and y:\n",
            "[[ 6  8]\n",
            " [10 13]]\n",
            "\n",
            "Subtraction of x and y:\n",
            "[[-4 -4]\n",
            " [-4 -3]]\n",
            "\n",
            "Multiplying x by 2 and y by 3:\n",
            "[[ 2  4]\n",
            " [ 6 10]]\n",
            "[[15 18]\n",
            " [21 24]]\n",
            "\n",
            "Square of elements in x:\n",
            "[[ 1  4]\n",
            " [ 9 25]]\n",
            "\n",
            "Square of elements in y:\n",
            "[[25 36]\n",
            " [49 64]]\n",
            "\n",
            "Dot product of v and w:\n",
            "219\n",
            "\n",
            "Dot product of x and v:\n",
            "[29 77]\n",
            "\n",
            "Dot product of x and y:\n",
            "[[19 22]\n",
            " [50 58]]\n",
            "\n",
            "Concatenate x and y along rows:\n",
            "[[1 2]\n",
            " [3 5]\n",
            " [5 6]\n",
            " [7 8]]\n",
            "\n",
            "Concatenate v and w along columns:\n",
            "[[ 9 11]\n",
            " [10 12]]\n",
            "\n",
            "Concatenating x and v :\n",
            "all the input arrays must have same number of dimensions, but the array at index 0 has 2 dimension(s) and the array at index 1 has 1 dimension(s)\n"
          ]
        }
      ]
    },
    {
      "cell_type": "markdown",
      "source": [
        "# Problem - 4: Matrix Operations:\n",
        "\n",
        "• For the following arrays:\n",
        "\n",
        "A = np.array([[3,4],[7,8]])   and    B = np.array([[5,3],[2,1]]);\n",
        "\n",
        "Prove following with Numpy:\n",
        "1. Prove A.A−1 = I.\n",
        "2. Prove AB ̸= BA.\n",
        "3. Prove (AB)\n",
        "\n",
        "T = BTAT\n",
        ".\n",
        "\n",
        "• Solve the following system of Linear equation using Inverse Methods.\n",
        "\n",
        "2x − 3y + z = −1\n",
        "x − y + 2z = −3\n",
        "3x + y − z = 9\n",
        "\n",
        "{Hint: First use Numpy array to represent the equation in Matrix form. Then Solve for: AX = B}\n",
        "\n",
        "• Now: solve the above equation using np.linalg.inv function.{Explore more about ”linalg” func-\n",
        "tion of Numpy}"
      ],
      "metadata": {
        "id": "7YZPzu-zCxTY"
      }
    },
    {
      "cell_type": "code",
      "source": [
        "import numpy as np\n",
        "\n",
        "# Given matrices\n",
        "A = np.array([[3, 4], [7, 8]])\n",
        "B = np.array([[5, 3], [2, 1]])\n",
        "\n",
        "# 1. Prove A * A^-1 = I\n",
        "A_inv = np.linalg.inv(A)\n",
        "identity_matrix = np.dot(A, A_inv)\n",
        "print(\"A * A^-1 (should be identity matrix):\")\n",
        "print(identity_matrix)\n",
        "\n",
        "# 2. Prove AB != BA\n",
        "AB = np.dot(A, B)  # AB\n",
        "BA = np.dot(B, A)  # BA\n",
        "print(\"\\nAB:\")\n",
        "print(AB)\n",
        "print(\"\\nBA:\")\n",
        "print(BA)\n",
        "print(\"\\nIs AB equal to BA?\", np.array_equal(AB, BA))  # Checking if AB == BA\n",
        "\n",
        "# 3. Prove (AB)^T = B^T * A^T\n",
        "AB_T = np.transpose(AB)  # (AB)^T\n",
        "B_T_A_T = np.dot(np.transpose(B), np.transpose(A))  # B^T * A^T\n",
        "print(\"\\n(AB)^T:\")\n",
        "print(AB_T)\n",
        "print(\"\\nB^T * A^T:\")\n",
        "print(B_T_A_T)\n",
        "print(\"\\nIs (AB)^T equal to B^T * A^T? is \" , np.array_equal(AB_T, B_T_A_T))\n",
        "\n",
        "# Solve the system of linear equations using inverse method:\n",
        "# 2x - 3y + z = -1\n",
        "# x - y + 2z = -3\n",
        "# 3x + y - z = 9\n",
        "\n",
        "# Represent the system in matrix form: AX = B\n",
        "A_eq = np.array([[2, -3, 1], [1, -1, 2], [3, 1, -1]])\n",
        "B_eq = np.array([-1, -3, 9])\n",
        "\n",
        "# Use the inverse of A_eq to solve for X (where X = [x, y, z])\n",
        "A_inv_eq = np.linalg.inv(A_eq)\n",
        "X = np.dot(A_inv_eq, B_eq)\n",
        "\n",
        "print(\"\\nSolution to the system of equations (using inverse method):\")\n",
        "print(\"x = \", X[0])\n",
        "print(\"y = \", X[1])\n",
        "print(\"z = \", X[2])\n",
        "\n",
        "# Solve the system of equations using np.linalg.solve (alternative method)\n",
        "X_linalg = np.linalg.solve(A_eq, B_eq)  # This is a more efficient way to solve the system\n",
        "print(\"\\nSolution using np.linalg.solve:\")\n",
        "print(\"x = \", X_linalg[0])\n",
        "print(\"y = \", X_linalg[1])\n",
        "print(\"z = \", X_linalg[2])\n"
      ],
      "metadata": {
        "colab": {
          "base_uri": "https://localhost:8080/"
        },
        "id": "F4Ksc7wbC01F",
        "outputId": "25bfd6df-0337-4a57-f46e-e1fe9d7c24e0"
      },
      "execution_count": 9,
      "outputs": [
        {
          "output_type": "stream",
          "name": "stdout",
          "text": [
            "A * A^-1 (should be identity matrix):\n",
            "[[1.00000000e+00 0.00000000e+00]\n",
            " [1.77635684e-15 1.00000000e+00]]\n",
            "\n",
            "AB:\n",
            "[[23 13]\n",
            " [51 29]]\n",
            "\n",
            "BA:\n",
            "[[36 44]\n",
            " [13 16]]\n",
            "\n",
            "Is AB equal to BA? False\n",
            "\n",
            "(AB)^T:\n",
            "[[23 51]\n",
            " [13 29]]\n",
            "\n",
            "B^T * A^T:\n",
            "[[23 51]\n",
            " [13 29]]\n",
            "\n",
            "Is (AB)^T equal to B^T * A^T? is  True\n",
            "\n",
            "Solution to the system of equations (using inverse method):\n",
            "x =  2.0\n",
            "y =  1.0\n",
            "z =  -2.0\n",
            "\n",
            "Solution using np.linalg.solve:\n",
            "x =  2.0\n",
            "y =  1.0000000000000002\n",
            "z =  -2.0\n"
          ]
        }
      ]
    },
    {
      "cell_type": "markdown",
      "source": [
        "# 10.2 Experiment: How Fast is Numpy?\n",
        "\n",
        "In this exercise, you will compare the performance and implementation of operations using plain Python\n",
        "lists (arrays) and NumPy arrays. Follow the instructions:"
      ],
      "metadata": {
        "id": "q6umw6PSC4Kj"
      }
    },
    {
      "cell_type": "markdown",
      "source": [
        "# 1. Element-wise Addition:\n",
        "\n",
        "• Using Python Lists, perform element-wise addition of two lists of size 1, 000, 000. Measure\n",
        "and Print the time taken for this operation.\n",
        "\n",
        "• Using Numpy Arrays, Repeat the calculation and measure and print the time taken for this operation."
      ],
      "metadata": {
        "id": "zy058v8FC9hU"
      }
    },
    {
      "cell_type": "code",
      "source": [
        "import time\n",
        "import numpy as np\n",
        "\n",
        "# Using Python Lists\n",
        "list1 = [i for i in range(1000000)]\n",
        "list2 = [i for i in range(1000000)]\n",
        "\n",
        "start_time = time.time()\n",
        "list_addition = [list1[i] + list2[i] for i in range(len(list1))]\n",
        "end_time = time.time()\n",
        "print(\"Time taken for element-wise addition using Python lists:\", end_time - start_time)\n",
        "\n",
        "# Using NumPy Arrays\n",
        "np_array1 = np.array(list1)\n",
        "np_array2 = np.array(list2)\n",
        "\n",
        "start_time = time.time()\n",
        "np_addition = np_array1 + np_array2\n",
        "end_time = time.time()\n",
        "print(\"Time taken for element-wise addition using NumPy arrays:\", end_time - start_time)\n"
      ],
      "metadata": {
        "colab": {
          "base_uri": "https://localhost:8080/"
        },
        "id": "4EgY8zJaC_m-",
        "outputId": "ea5ed69f-421e-4505-fe43-15a69710f63b"
      },
      "execution_count": 10,
      "outputs": [
        {
          "output_type": "stream",
          "name": "stdout",
          "text": [
            "Time taken for element-wise addition using Python lists: 0.052770376205444336\n",
            "Time taken for element-wise addition using NumPy arrays: 0.0033071041107177734\n"
          ]
        }
      ]
    },
    {
      "cell_type": "markdown",
      "source": [
        "# 2. Element-wise Multiplication\n",
        "\n",
        "• Using Python Lists, perform element-wise multiplication of two lists of size 1, 000, 000.\n",
        "Measure and Print the time taken for this operation.\n",
        "\n",
        "• Using Numpy Arrays, Repeat the calculation and measure and print the time taken for\n",
        "this operation."
      ],
      "metadata": {
        "id": "rlJjS-HEDBxC"
      }
    },
    {
      "cell_type": "code",
      "source": [
        "# Using Python Lists\n",
        "start_time = time.time()\n",
        "list_multiplication = [list1[i] * list2[i] for i in range(len(list1))]\n",
        "end_time = time.time()\n",
        "print(\"Time taken for element-wise multiplication using Python lists:\", end_time - start_time)\n",
        "\n",
        "# Using NumPy Arrays\n",
        "start_time = time.time()\n",
        "np_multiplication = np_array1 * np_array2\n",
        "end_time = time.time()\n",
        "print(\"Time taken for element-wise multiplication using NumPy arrays:\", end_time - start_time)\n"
      ],
      "metadata": {
        "colab": {
          "base_uri": "https://localhost:8080/"
        },
        "id": "bBZ28YIBDPle",
        "outputId": "66028b75-f49f-44b6-89d4-6c4f74edf7a4"
      },
      "execution_count": 11,
      "outputs": [
        {
          "output_type": "stream",
          "name": "stdout",
          "text": [
            "Time taken for element-wise multiplication using Python lists: 0.10521173477172852\n",
            "Time taken for element-wise multiplication using NumPy arrays: 0.004758119583129883\n"
          ]
        }
      ]
    },
    {
      "cell_type": "markdown",
      "source": [
        "# 3. Dot Product\n",
        "\n",
        "• Using Python Lists, compute the dot product of two lists of size 1, 000, 000. Measure and\n",
        "Print the time taken for this operation.\n",
        "\n",
        "• Using Numpy Arrays, Repeat the calculation and measure and print the time taken for\n",
        "this operation."
      ],
      "metadata": {
        "id": "52hPZt0_DTwd"
      }
    },
    {
      "cell_type": "code",
      "source": [
        "# Using Python Lists\n",
        "start_time = time.time()\n",
        "dot_product_list = sum(list1[i] * list2[i] for i in range(len(list1)))\n",
        "end_time = time.time()\n",
        "print(\"Time taken for dot product using Python lists:\", end_time - start_time)\n",
        "\n",
        "# Using NumPy Arrays\n",
        "start_time = time.time()\n",
        "dot_product_np = np.dot(np_array1, np_array2)\n",
        "end_time = time.time()\n",
        "print(\"Time taken for dot product using NumPy arrays:\", end_time - start_time)"
      ],
      "metadata": {
        "colab": {
          "base_uri": "https://localhost:8080/"
        },
        "id": "b98ingD-DWfo",
        "outputId": "eb35c5ea-fe3c-4ca9-a396-acca02398bca"
      },
      "execution_count": 12,
      "outputs": [
        {
          "output_type": "stream",
          "name": "stdout",
          "text": [
            "Time taken for dot product using Python lists: 0.06627011299133301\n",
            "Time taken for dot product using NumPy arrays: 0.001941680908203125\n"
          ]
        }
      ]
    },
    {
      "cell_type": "markdown",
      "source": [
        "# 4. Matrix Multiplication\n",
        "\n",
        "• Using Python lists, perform matrix multiplication of two matrices of size 1000x1000. Mea-\n",
        "sure and print the time taken for this operation.\n",
        "\n",
        "• Using NumPy arrays, perform matrix multiplication of two matrices of size 1000x1000.\n",
        "Measure and print the time taken for this operation."
      ],
      "metadata": {
        "id": "jMeBzgVDDaLv"
      }
    },
    {
      "cell_type": "code",
      "source": [
        "# Using Python Lists\n",
        "matrix1 = [[i + j for j in range(1000)] for i in range(1000)]\n",
        "matrix2 = [[i - j for j in range(1000)] for i in range(1000)]\n",
        "\n",
        "start_time = time.time()\n",
        "matrix_multiplication_list = [[sum(matrix1[i][k] * matrix2[k][j] for k in range(1000)) for j in range(1000)] for i in range(1000)]\n",
        "end_time = time.time()\n",
        "print(\"Time taken for matrix multiplication using Python lists:\", end_time - start_time)\n",
        "\n",
        "# Using NumPy Arrays\n",
        "np_matrix1 = np.array(matrix1)\n",
        "np_matrix2 = np.array(matrix2)\n",
        "\n",
        "start_time = time.time()\n",
        "matrix_multiplication_np = np.dot(np_matrix1, np_matrix2)\n",
        "end_time = time.time()\n",
        "print(\"Time taken for matrix multiplication using NumPy arrays:\", end_time - start_time)\n"
      ],
      "metadata": {
        "colab": {
          "base_uri": "https://localhost:8080/"
        },
        "id": "t4BD6QlQDcar",
        "outputId": "c2ac4f60-3564-4f08-df9e-7485955cbecc"
      },
      "execution_count": 13,
      "outputs": [
        {
          "output_type": "stream",
          "name": "stdout",
          "text": [
            "Time taken for matrix multiplication using Python lists: 189.83953547477722\n",
            "Time taken for matrix multiplication using NumPy arrays: 0.9243419170379639\n"
          ]
        }
      ]
    }
  ]
}