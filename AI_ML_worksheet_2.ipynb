{
  "nbformat": 4,
  "nbformat_minor": 0,
  "metadata": {
    "colab": {
      "provenance": [],
      "mount_file_id": "1LuurHDjAHYOr9ijGYKaUStwG9tmyLb69",
      "authorship_tag": "ABX9TyNCebZy7h+uWIEm5Zvk1WoS",
      "include_colab_link": true
    },
    "kernelspec": {
      "name": "python3",
      "display_name": "Python 3"
    },
    "language_info": {
      "name": "python"
    }
  },
  "cells": [
    {
      "cell_type": "markdown",
      "metadata": {
        "id": "view-in-github",
        "colab_type": "text"
      },
      "source": [
        "<a href=\"https://colab.research.google.com/github/pradhansumitXD/AI-ML/blob/main/AI_ML_worksheet_2.ipynb\" target=\"_parent\"><img src=\"https://colab.research.google.com/assets/colab-badge.svg\" alt=\"Open In Colab\"/></a>"
      ]
    },
    {
      "cell_type": "code",
      "execution_count": 12,
      "metadata": {
        "id": "AV7Lg20-yPU_"
      },
      "outputs": [],
      "source": [
        "import numpy as np\n",
        "\n",
        "def softmax(z):\n",
        "    exp_z = np.exp(z - np.max(z, axis=1, keepdims=True))  # Numerical stability\n",
        "    return exp_z / np.sum(exp_z, axis=1, keepdims=True)\n"
      ]
    },
    {
      "cell_type": "code",
      "source": [
        "z_test = np.array([[2.0, 1.0, 0.1], [1.0, 1.0, 1.0]])\n",
        "softmax_output = softmax(z_test)\n",
        "assert np.allclose(np.sum(softmax_output, axis=1), 1)\n",
        "print(\"Softmax function passed the test case!\")\n"
      ],
      "metadata": {
        "colab": {
          "base_uri": "https://localhost:8080/"
        },
        "id": "zxkczjURyXow",
        "outputId": "1a3eef64-ef75-4904-f3cc-0bf4490683dc"
      },
      "execution_count": 13,
      "outputs": [
        {
          "output_type": "stream",
          "name": "stdout",
          "text": [
            "Softmax function passed the test case!\n"
          ]
        }
      ]
    },
    {
      "cell_type": "code",
      "source": [
        "def predict_softmax(X, W, b):\n",
        "    logits = np.dot(X, W) + b\n",
        "    return np.argmax(softmax(logits), axis=1)\n"
      ],
      "metadata": {
        "id": "pg6ck5BWyZb2"
      },
      "execution_count": 14,
      "outputs": []
    },
    {
      "cell_type": "code",
      "source": [
        "X_test = np.array([[0.2, 0.8], [0.5, 0.5], [0.9, 0.1]])\n",
        "W_test = np.array([[0.4, 0.2, 0.1], [0.3, 0.7, 0.5]])\n",
        "b_test = np.array([0.1, 0.2, 0.3])\n",
        "y_pred_test = predict_softmax(X_test, W_test, b_test)\n",
        "assert y_pred_test.shape == (3,)\n",
        "print(\"Predicted class labels:\", y_pred_test)\n"
      ],
      "metadata": {
        "colab": {
          "base_uri": "https://localhost:8080/"
        },
        "id": "utJ-u9Eqyb0j",
        "outputId": "b1273aa7-93dd-46d9-e551-1dcc8711c263"
      },
      "execution_count": 15,
      "outputs": [
        {
          "output_type": "stream",
          "name": "stdout",
          "text": [
            "Predicted class labels: [1 1 0]\n"
          ]
        }
      ]
    },
    {
      "cell_type": "code",
      "source": [
        "def loss_softmax(y_pred, y_true):\n",
        "    return -np.mean(np.sum(y_true * np.log(y_pred + 1e-8), axis=1))\n"
      ],
      "metadata": {
        "id": "-riTEma8yfsb"
      },
      "execution_count": 16,
      "outputs": []
    },
    {
      "cell_type": "code",
      "source": [
        "y_true = np.array([[1, 0, 0], [0, 1, 0], [0, 0, 1]])\n",
        "y_pred = np.array([[0.9, 0.05, 0.05], [0.1, 0.85, 0.05], [0.05, 0.1, 0.85]])\n",
        "assert loss_softmax(y_pred, y_true) < loss_softmax(y_pred[::-1], y_true)\n",
        "print(\"Loss function passed the test case!\")\n"
      ],
      "metadata": {
        "colab": {
          "base_uri": "https://localhost:8080/"
        },
        "id": "zpSHycjuyhKw",
        "outputId": "a693800c-2b73-47bb-cd09-78860c23d3f6"
      },
      "execution_count": 17,
      "outputs": [
        {
          "output_type": "stream",
          "name": "stdout",
          "text": [
            "Loss function passed the test case!\n"
          ]
        }
      ]
    },
    {
      "cell_type": "code",
      "source": [
        "def cost_softmax(X, y, W, b):\n",
        "    logits = np.dot(X, W) + b\n",
        "    y_pred = softmax(logits)\n",
        "    return loss_softmax(y_pred, y)\n"
      ],
      "metadata": {
        "id": "ZQwZ0TcvyjRQ"
      },
      "execution_count": 18,
      "outputs": []
    },
    {
      "cell_type": "code",
      "source": [
        "def compute_gradient_softmax(X, y, W, b):\n",
        "    m = X.shape[0]\n",
        "    y_pred = softmax(np.dot(X, W) + b)\n",
        "    grad_W = np.dot(X.T, (y_pred - y)) / m\n",
        "    grad_b = np.sum(y_pred - y, axis=0) / m\n",
        "    return grad_W, grad_b\n"
      ],
      "metadata": {
        "id": "A-qxPNUnyk2k"
      },
      "execution_count": 19,
      "outputs": []
    },
    {
      "cell_type": "code",
      "source": [
        "def gradient_descent_softmax(X, y, W, b, alpha, n_iter):\n",
        "    cost_history = []\n",
        "    for i in range(n_iter):\n",
        "        grad_W, grad_b = compute_gradient_softmax(X, y, W, b)\n",
        "        W -= alpha * grad_W\n",
        "        b -= alpha * grad_b\n",
        "        cost_history.append(loss_softmax(softmax(np.dot(X, W) + b), y))\n",
        "    return W, b, cost_history\n"
      ],
      "metadata": {
        "id": "NxK1GO2aymjN"
      },
      "execution_count": 20,
      "outputs": []
    },
    {
      "cell_type": "code",
      "source": [
        "import pandas as pd\n",
        "import numpy as np\n",
        "from sklearn.model_selection import train_test_split\n",
        "\n",
        "# Load MNIST CSV file\n",
        "df = pd.read_csv(\"/content/sample_data/mnist_test.csv\")  # Change to the correct file path\n",
        "\n",
        "# Extract labels and features\n",
        "y = df.iloc[:, 0].values  # Labels (digits 0-9)\n",
        "X = df.iloc[:, 1:].values / 255.0  # Normalize pixel values (0-255 → 0-1)\n",
        "\n",
        "# Split into training and testing sets (80% train, 20% test)\n",
        "X_train, X_test, y_train, y_test = train_test_split(X, y, test_size=0.2, random_state=42)\n",
        "\n",
        "print(\"Dataset Loaded Successfully!\")\n"
      ],
      "metadata": {
        "colab": {
          "base_uri": "https://localhost:8080/"
        },
        "id": "H6J6Iwa00Mzk",
        "outputId": "ceb485e9-6c22-4692-a06f-5cbc9b57e104"
      },
      "execution_count": 21,
      "outputs": [
        {
          "output_type": "stream",
          "name": "stdout",
          "text": [
            "Dataset Loaded Successfully!\n"
          ]
        }
      ]
    },
    {
      "cell_type": "code",
      "source": [
        "from sklearn.preprocessing import OneHotEncoder\n",
        "encoder = OneHotEncoder(sparse_output=False)\n",
        "y_train_one_hot = encoder.fit_transform(y_train.reshape(-1, 1))\n",
        "y_test_one_hot = encoder.transform(y_test.reshape(-1, 1))\n",
        "\n",
        "W = np.random.randn(X_train.shape[1], y_train_one_hot.shape[1]) * 0.01\n",
        "b = np.zeros(y_train_one_hot.shape[1])\n",
        "\n",
        "W_opt, b_opt, cost_history = gradient_descent_softmax(X_train, y_train_one_hot, W, b, alpha=0.1, n_iter=1000)\n"
      ],
      "metadata": {
        "id": "_P5dtGr_0Ryk"
      },
      "execution_count": 22,
      "outputs": []
    },
    {
      "cell_type": "code",
      "source": [
        "import matplotlib.pyplot as plt\n",
        "plt.plot(cost_history)\n",
        "plt.xlabel('Iterations')\n",
        "plt.ylabel('Cost')\n",
        "plt.title('Cost Function vs. Iterations')\n",
        "plt.show()\n"
      ],
      "metadata": {
        "colab": {
          "base_uri": "https://localhost:8080/",
          "height": 472
        },
        "id": "Zc32WZt10TNt",
        "outputId": "37f5a715-7cc6-4f19-af26-b7d13303b3f0"
      },
      "execution_count": 24,
      "outputs": [
        {
          "output_type": "display_data",
          "data": {
            "text/plain": [
              "<Figure size 640x480 with 1 Axes>"
            ],
            "image/png": "[encoded data removed]"
          },
          "metadata": {}
        }
      ]
    },
    {
      "cell_type": "code",
      "source": [
        "print(\"y_train exists:\", \"y_train\" in locals())\n",
        "print(\"y_test exists:\", \"y_test\" in locals())\n"
      ],
      "metadata": {
        "colab": {
          "base_uri": "https://localhost:8080/"
        },
        "id": "IDJmiZay0VH5",
        "outputId": "9e39fca7-d62a-4c02-df74-a7ca6c28f83d"
      },
      "execution_count": 25,
      "outputs": [
        {
          "output_type": "stream",
          "name": "stdout",
          "text": [
            "y_train exists: True\n",
            "y_test exists: True\n"
          ]
        }
      ]
    },
    {
      "cell_type": "code",
      "source": [
        "from sklearn.metrics import confusion_matrix, precision_score, recall_score, f1_score\n",
        "\n",
        "y_pred_test = predict_softmax(X_test, W_opt, b_opt)\n",
        "cm = confusion_matrix(np.argmax(y_test_one_hot, axis=1), y_pred_test)\n",
        "precision = precision_score(np.argmax(y_test_one_hot, axis=1), y_pred_test, average='weighted')\n",
        "recall = recall_score(np.argmax(y_test_one_hot, axis=1), y_pred_test, average='weighted')\n",
        "f1 = f1_score(np.argmax(y_test_one_hot, axis=1), y_pred_test, average='weighted')\n",
        "\n",
        "print(f\"Confusion Matrix:\\n{cm}\")\n",
        "print(f\"Precision: {precision:.2f}, Recall: {recall:.2f}, F1-Score: {f1:.2f}\")\n"
      ],
      "metadata": {
        "colab": {
          "base_uri": "https://localhost:8080/"
        },
        "id": "k9Ws1Y6n0X8n",
        "outputId": "ba043a62-0311-4abe-faa8-7cd1aca2b8a8"
      },
      "execution_count": 26,
      "outputs": [
        {
          "output_type": "stream",
          "name": "stdout",
          "text": [
            "Confusion Matrix:\n",
            "[[197   0   0   0   1   0   6   0   1   0]\n",
            " [  0 216   0   0   0   1   0   0   1   0]\n",
            " [  2   1 173   2   3   0   2   2   6   1]\n",
            " [  1   1   5 181   0   3   1   4   2   3]\n",
            " [  0   0   3   0 181   1   5   0   2  13]\n",
            " [  1   4   3   6   4 166   4   0   8   2]\n",
            " [  2   1   2   0   2   1 178   0   0   0]\n",
            " [  2   3   2   1   1   0   0 179   0   5]\n",
            " [  0   1   3   9   1   5   2   4 165   1]\n",
            " [  2   1   2   2   8   2   0   3   3 188]]\n",
            "Precision: 0.91, Recall: 0.91, F1-Score: 0.91\n"
          ]
        }
      ]
    },
    {
      "cell_type": "code",
      "source": [
        "from sklearn.datasets import make_classification, make_circles\n",
        "from sklearn.linear_model import LogisticRegression\n",
        "\n",
        "X_lin, y_lin = make_classification(n_samples=200, n_features=2, n_redundant=0, n_clusters_per_class=1, random_state=42)\n",
        "log_reg_lin = LogisticRegression().fit(X_lin, y_lin)\n",
        "\n",
        "X_nonlin, y_nonlin = make_circles(n_samples=200, noise=0.1, factor=0.5, random_state=42)\n",
        "log_reg_nonlin = LogisticRegression().fit(X_nonlin, y_nonlin)\n"
      ],
      "metadata": {
        "id": "VyKO23Da0Zzd"
      },
      "execution_count": 27,
      "outputs": []
    }
  ]
}